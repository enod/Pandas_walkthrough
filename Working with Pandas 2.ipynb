{
 "cells": [
  {
   "cell_type": "code",
   "execution_count": 86,
   "metadata": {
    "collapsed": true,
    "nbpresent": {
     "id": "98067949-f1f0-4e1e-aa7e-ecdd5fd856a7"
    }
   },
   "outputs": [],
   "source": [
    "import pandas as pd"
   ]
  },
  {
   "cell_type": "code",
   "execution_count": 87,
   "metadata": {
    "collapsed": true,
    "nbpresent": {
     "id": "eb573c59-0887-4a71-84a0-955f9180b013"
    }
   },
   "outputs": [],
   "source": [
    "fbdata = pd.read_csv('/Users/enod/Development/fb-scrape/facebook-page-post-scraper/156915824368931_facebook_statuses.csv')"
   ]
  },
  {
   "cell_type": "markdown",
   "metadata": {
    "nbpresent": {
     "id": "d75d227b-9290-49c8-9141-8cfd302f4d06"
    }
   },
   "source": [
    "## Exploring pandas Series"
   ]
  },
  {
   "cell_type": "code",
   "execution_count": 88,
   "metadata": {
    "collapsed": false,
    "nbpresent": {
     "id": "f884788c-9630-4e0d-8b64-7ac6fc449376"
    }
   },
   "outputs": [
    {
     "data": {
      "text/plain": [
       "status_id           object\n",
       "status_message      object\n",
       "link_name           object\n",
       "status_type         object\n",
       "status_link         object\n",
       "status_published    object\n",
       "num_reactions        int64\n",
       "num_comments         int64\n",
       "num_shares           int64\n",
       "num_likes            int64\n",
       "num_loves            int64\n",
       "num_wows             int64\n",
       "num_hahas            int64\n",
       "num_sads             int64\n",
       "num_angrys           int64\n",
       "dtype: object"
      ]
     },
     "execution_count": 88,
     "metadata": {},
     "output_type": "execute_result"
    }
   ],
   "source": [
    "fbdata.dtypes"
   ]
  },
  {
   "cell_type": "code",
   "execution_count": 89,
   "metadata": {
    "collapsed": false,
    "nbpresent": {
     "id": "f096c315-6c00-41c6-8514-23b848dd0db0"
    }
   },
   "outputs": [
    {
     "data": {
      "text/plain": [
       "count      3212\n",
       "unique        5\n",
       "top       video\n",
       "freq       1023\n",
       "Name: status_type, dtype: object"
      ]
     },
     "execution_count": 89,
     "metadata": {},
     "output_type": "execute_result"
    }
   ],
   "source": [
    "fbdata['status_type'].describe()"
   ]
  },
  {
   "cell_type": "code",
   "execution_count": 90,
   "metadata": {
    "collapsed": false,
    "nbpresent": {
     "id": "052b554e-3d1b-4df6-81a9-30bab60a689c"
    }
   },
   "outputs": [
    {
     "data": {
      "text/plain": [
       "video     1023\n",
       "photo      968\n",
       "link       704\n",
       "status     455\n",
       "event       62\n",
       "Name: status_type, dtype: int64"
      ]
     },
     "execution_count": 90,
     "metadata": {},
     "output_type": "execute_result"
    }
   ],
   "source": [
    "fbdata.status_type.value_counts()"
   ]
  },
  {
   "cell_type": "code",
   "execution_count": 91,
   "metadata": {
    "collapsed": false,
    "nbpresent": {
     "id": "c8d13ae1-65b0-4c14-9afa-446f8af1006b"
    },
    "scrolled": true
   },
   "outputs": [
    {
     "data": {
      "text/plain": [
       "video     0.318493\n",
       "photo     0.301370\n",
       "link      0.219178\n",
       "status    0.141656\n",
       "event     0.019303\n",
       "Name: status_type, dtype: float64"
      ]
     },
     "execution_count": 91,
     "metadata": {},
     "output_type": "execute_result"
    }
   ],
   "source": [
    "fbdata.status_type.value_counts(normalize=True)"
   ]
  },
  {
   "cell_type": "markdown",
   "metadata": {
    "nbpresent": {
     "id": "054eee9b-7583-4efd-beb7-dec2e82394b4"
    }
   },
   "source": [
    "Дээрхи дээр 31% нь видео, 30% зурган контент гэх мэт байдлаар ойлгож болно"
   ]
  },
  {
   "cell_type": "code",
   "execution_count": 92,
   "metadata": {
    "collapsed": false,
    "nbpresent": {
     "id": "fe37a500-9743-4028-b362-1b2ec3061ddc"
    }
   },
   "outputs": [
    {
     "data": {
      "text/plain": [
       "5"
      ]
     },
     "execution_count": 92,
     "metadata": {},
     "output_type": "execute_result"
    }
   ],
   "source": [
    "fbdata.status_type.nunique()"
   ]
  },
  {
   "cell_type": "code",
   "execution_count": 93,
   "metadata": {
    "collapsed": false,
    "nbpresent": {
     "id": "bfec849b-2282-4d9d-8d7c-3485ac92962a"
    }
   },
   "outputs": [
    {
     "data": {
      "text/plain": [
       "array(['photo', 'video', 'link', 'status', 'event'], dtype=object)"
      ]
     },
     "execution_count": 93,
     "metadata": {},
     "output_type": "execute_result"
    }
   ],
   "source": [
    "fbdata.status_type.unique()"
   ]
  },
  {
   "cell_type": "code",
   "execution_count": 94,
   "metadata": {
    "collapsed": false,
    "nbpresent": {
     "id": "9b10734a-7b04-4c48-9fbf-3889e67e8e1b"
    },
    "scrolled": true
   },
   "outputs": [
    {
     "data": {
      "text/html": [
       "<div>\n",
       "<table border=\"1\" class=\"dataframe\">\n",
       "  <thead>\n",
       "    <tr style=\"text-align: right;\">\n",
       "      <th>num_comments</th>\n",
       "      <th>0</th>\n",
       "      <th>1</th>\n",
       "      <th>2</th>\n",
       "      <th>3</th>\n",
       "      <th>4</th>\n",
       "      <th>5</th>\n",
       "      <th>6</th>\n",
       "      <th>7</th>\n",
       "      <th>8</th>\n",
       "      <th>9</th>\n",
       "      <th>...</th>\n",
       "      <th>1257</th>\n",
       "      <th>1776</th>\n",
       "      <th>2204</th>\n",
       "      <th>2405</th>\n",
       "      <th>2412</th>\n",
       "      <th>2961</th>\n",
       "      <th>3942</th>\n",
       "      <th>5394</th>\n",
       "      <th>6911</th>\n",
       "      <th>8731</th>\n",
       "    </tr>\n",
       "    <tr>\n",
       "      <th>status_type</th>\n",
       "      <th></th>\n",
       "      <th></th>\n",
       "      <th></th>\n",
       "      <th></th>\n",
       "      <th></th>\n",
       "      <th></th>\n",
       "      <th></th>\n",
       "      <th></th>\n",
       "      <th></th>\n",
       "      <th></th>\n",
       "      <th></th>\n",
       "      <th></th>\n",
       "      <th></th>\n",
       "      <th></th>\n",
       "      <th></th>\n",
       "      <th></th>\n",
       "      <th></th>\n",
       "      <th></th>\n",
       "      <th></th>\n",
       "      <th></th>\n",
       "      <th></th>\n",
       "    </tr>\n",
       "  </thead>\n",
       "  <tbody>\n",
       "    <tr>\n",
       "      <th>event</th>\n",
       "      <td>24</td>\n",
       "      <td>12</td>\n",
       "      <td>8</td>\n",
       "      <td>3</td>\n",
       "      <td>0</td>\n",
       "      <td>2</td>\n",
       "      <td>1</td>\n",
       "      <td>3</td>\n",
       "      <td>2</td>\n",
       "      <td>1</td>\n",
       "      <td>...</td>\n",
       "      <td>0</td>\n",
       "      <td>0</td>\n",
       "      <td>0</td>\n",
       "      <td>0</td>\n",
       "      <td>0</td>\n",
       "      <td>0</td>\n",
       "      <td>0</td>\n",
       "      <td>0</td>\n",
       "      <td>0</td>\n",
       "      <td>0</td>\n",
       "    </tr>\n",
       "    <tr>\n",
       "      <th>link</th>\n",
       "      <td>460</td>\n",
       "      <td>62</td>\n",
       "      <td>21</td>\n",
       "      <td>18</td>\n",
       "      <td>13</td>\n",
       "      <td>12</td>\n",
       "      <td>9</td>\n",
       "      <td>3</td>\n",
       "      <td>5</td>\n",
       "      <td>4</td>\n",
       "      <td>...</td>\n",
       "      <td>0</td>\n",
       "      <td>0</td>\n",
       "      <td>0</td>\n",
       "      <td>0</td>\n",
       "      <td>0</td>\n",
       "      <td>0</td>\n",
       "      <td>0</td>\n",
       "      <td>0</td>\n",
       "      <td>0</td>\n",
       "      <td>0</td>\n",
       "    </tr>\n",
       "    <tr>\n",
       "      <th>photo</th>\n",
       "      <td>115</td>\n",
       "      <td>59</td>\n",
       "      <td>51</td>\n",
       "      <td>41</td>\n",
       "      <td>41</td>\n",
       "      <td>36</td>\n",
       "      <td>32</td>\n",
       "      <td>18</td>\n",
       "      <td>32</td>\n",
       "      <td>10</td>\n",
       "      <td>...</td>\n",
       "      <td>1</td>\n",
       "      <td>0</td>\n",
       "      <td>1</td>\n",
       "      <td>0</td>\n",
       "      <td>0</td>\n",
       "      <td>0</td>\n",
       "      <td>0</td>\n",
       "      <td>0</td>\n",
       "      <td>0</td>\n",
       "      <td>0</td>\n",
       "    </tr>\n",
       "    <tr>\n",
       "      <th>status</th>\n",
       "      <td>57</td>\n",
       "      <td>18</td>\n",
       "      <td>30</td>\n",
       "      <td>20</td>\n",
       "      <td>19</td>\n",
       "      <td>15</td>\n",
       "      <td>17</td>\n",
       "      <td>17</td>\n",
       "      <td>12</td>\n",
       "      <td>14</td>\n",
       "      <td>...</td>\n",
       "      <td>0</td>\n",
       "      <td>1</td>\n",
       "      <td>0</td>\n",
       "      <td>0</td>\n",
       "      <td>0</td>\n",
       "      <td>0</td>\n",
       "      <td>0</td>\n",
       "      <td>0</td>\n",
       "      <td>0</td>\n",
       "      <td>0</td>\n",
       "    </tr>\n",
       "    <tr>\n",
       "      <th>video</th>\n",
       "      <td>85</td>\n",
       "      <td>68</td>\n",
       "      <td>60</td>\n",
       "      <td>43</td>\n",
       "      <td>43</td>\n",
       "      <td>33</td>\n",
       "      <td>35</td>\n",
       "      <td>24</td>\n",
       "      <td>30</td>\n",
       "      <td>19</td>\n",
       "      <td>...</td>\n",
       "      <td>0</td>\n",
       "      <td>0</td>\n",
       "      <td>0</td>\n",
       "      <td>1</td>\n",
       "      <td>1</td>\n",
       "      <td>1</td>\n",
       "      <td>1</td>\n",
       "      <td>1</td>\n",
       "      <td>1</td>\n",
       "      <td>1</td>\n",
       "    </tr>\n",
       "  </tbody>\n",
       "</table>\n",
       "<p>5 rows × 270 columns</p>\n",
       "</div>"
      ],
      "text/plain": [
       "num_comments  0     1     2     3     4     5     6     7     8     9     \\\n",
       "status_type                                                                \n",
       "event           24    12     8     3     0     2     1     3     2     1   \n",
       "link           460    62    21    18    13    12     9     3     5     4   \n",
       "photo          115    59    51    41    41    36    32    18    32    10   \n",
       "status          57    18    30    20    19    15    17    17    12    14   \n",
       "video           85    68    60    43    43    33    35    24    30    19   \n",
       "\n",
       "num_comments  ...   1257  1776  2204  2405  2412  2961  3942  5394  6911  8731  \n",
       "status_type   ...                                                               \n",
       "event         ...      0     0     0     0     0     0     0     0     0     0  \n",
       "link          ...      0     0     0     0     0     0     0     0     0     0  \n",
       "photo         ...      1     0     1     0     0     0     0     0     0     0  \n",
       "status        ...      0     1     0     0     0     0     0     0     0     0  \n",
       "video         ...      0     0     0     1     1     1     1     1     1     1  \n",
       "\n",
       "[5 rows x 270 columns]"
      ]
     },
     "execution_count": 94,
     "metadata": {},
     "output_type": "execute_result"
    }
   ],
   "source": [
    "pd.crosstab(fbdata.status_type,fbdata.num_comments)"
   ]
  },
  {
   "cell_type": "code",
   "execution_count": 95,
   "metadata": {
    "collapsed": false,
    "nbpresent": {
     "id": "85961b97-5e12-4d8d-bf61-11938a566d1a"
    }
   },
   "outputs": [
    {
     "data": {
      "text/plain": [
       "count    3212.000000\n",
       "mean       43.673101\n",
       "std       262.016036\n",
       "min         0.000000\n",
       "25%         1.000000\n",
       "50%         7.000000\n",
       "75%        26.000000\n",
       "max      8731.000000\n",
       "Name: num_comments, dtype: float64"
      ]
     },
     "execution_count": 95,
     "metadata": {},
     "output_type": "execute_result"
    }
   ],
   "source": [
    "fbdata.num_comments.describe()"
   ]
  },
  {
   "cell_type": "code",
   "execution_count": 96,
   "metadata": {
    "collapsed": false,
    "nbpresent": {
     "id": "d6f391a6-909d-4bbc-82e5-08b1ddc12486"
    }
   },
   "outputs": [
    {
     "data": {
      "text/plain": [
       "43.67310087173101"
      ]
     },
     "execution_count": 96,
     "metadata": {},
     "output_type": "execute_result"
    }
   ],
   "source": [
    "fbdata.num_comments.mean()"
   ]
  },
  {
   "cell_type": "code",
   "execution_count": 97,
   "metadata": {
    "collapsed": true,
    "nbpresent": {
     "id": "28ca9d05-2e51-4495-97f3-e084de7ab14f"
    }
   },
   "outputs": [],
   "source": [
    "%matplotlib inline"
   ]
  },
  {
   "cell_type": "code",
   "execution_count": 98,
   "metadata": {
    "collapsed": false,
    "nbpresent": {
     "id": "df2e6672-9945-4085-85f7-b2540abbbfea"
    }
   },
   "outputs": [
    {
     "data": {
      "text/plain": [
       "<matplotlib.axes._subplots.AxesSubplot at 0x115893828>"
      ]
     },
     "execution_count": 98,
     "metadata": {},
     "output_type": "execute_result"
    },
    {
     "data": {
      "image/png": "[encoded data removed]",
      "text/plain": [
       "<matplotlib.figure.Figure at 0x115b48e10>"
      ]
     },
     "metadata": {},
     "output_type": "display_data"
    }
   ],
   "source": [
    "fbdata.status_type.value_counts().plot(kind='bar')"
   ]
  },
  {
   "cell_type": "markdown",
   "metadata": {
    "nbpresent": {
     "id": "68b7d8b9-0f87-44d5-8fc3-455327305074"
    }
   },
   "source": [
    "## How to handle missing values?"
   ]
  },
  {
   "cell_type": "code",
   "execution_count": 99,
   "metadata": {
    "collapsed": false,
    "nbpresent": {
     "id": "cb057fc7-4437-402d-a2f2-3d094e264fe6"
    }
   },
   "outputs": [
    {
     "data": {
      "text/html": [
       "<div>\n",
       "<table border=\"1\" class=\"dataframe\">\n",
       "  <thead>\n",
       "    <tr style=\"text-align: right;\">\n",
       "      <th></th>\n",
       "      <th>status_id</th>\n",
       "      <th>status_message</th>\n",
       "      <th>link_name</th>\n",
       "      <th>status_type</th>\n",
       "      <th>status_link</th>\n",
       "      <th>status_published</th>\n",
       "      <th>num_reactions</th>\n",
       "      <th>num_comments</th>\n",
       "      <th>num_shares</th>\n",
       "      <th>num_likes</th>\n",
       "      <th>num_loves</th>\n",
       "      <th>num_wows</th>\n",
       "      <th>num_hahas</th>\n",
       "      <th>num_sads</th>\n",
       "      <th>num_angrys</th>\n",
       "    </tr>\n",
       "  </thead>\n",
       "  <tbody>\n",
       "    <tr>\n",
       "      <th>3207</th>\n",
       "      <td>156915824368931_185253524868494</td>\n",
       "      <td>RT @historychannel: THIS DAY IN HISTORY: 1999 ...</td>\n",
       "      <td>This Day in History || Энэ өдөр түүхийн хуудсанд</td>\n",
       "      <td>link</td>\n",
       "      <td>http://bit.ly/ouNIhf</td>\n",
       "      <td>2011-07-18 18:29:23</td>\n",
       "      <td>0</td>\n",
       "      <td>0</td>\n",
       "      <td>0</td>\n",
       "      <td>0</td>\n",
       "      <td>0</td>\n",
       "      <td>0</td>\n",
       "      <td>0</td>\n",
       "      <td>0</td>\n",
       "      <td>0</td>\n",
       "    </tr>\n",
       "    <tr>\n",
       "      <th>3208</th>\n",
       "      <td>156915824368931_161390890588091</td>\n",
       "      <td>Check out the latest premiering on our screen ...</td>\n",
       "      <td>NaN</td>\n",
       "      <td>status</td>\n",
       "      <td>NaN</td>\n",
       "      <td>2011-04-26 20:47:45</td>\n",
       "      <td>0</td>\n",
       "      <td>0</td>\n",
       "      <td>0</td>\n",
       "      <td>0</td>\n",
       "      <td>0</td>\n",
       "      <td>0</td>\n",
       "      <td>0</td>\n",
       "      <td>0</td>\n",
       "      <td>0</td>\n",
       "    </tr>\n",
       "    <tr>\n",
       "      <th>3209</th>\n",
       "      <td>156915824368931_188651037848505</td>\n",
       "      <td>Манай дэлэгцнээ гарч буй шинэ нэвтрүүлгүүд бол...</td>\n",
       "      <td>Монгол ТВ | HDTV</td>\n",
       "      <td>link</td>\n",
       "      <td>http://www.mongoltv.mn/</td>\n",
       "      <td>2011-04-26 20:45:21</td>\n",
       "      <td>2</td>\n",
       "      <td>3</td>\n",
       "      <td>0</td>\n",
       "      <td>2</td>\n",
       "      <td>0</td>\n",
       "      <td>0</td>\n",
       "      <td>0</td>\n",
       "      <td>0</td>\n",
       "      <td>0</td>\n",
       "    </tr>\n",
       "    <tr>\n",
       "      <th>3210</th>\n",
       "      <td>156915824368931_159670110760169</td>\n",
       "      <td>Таны үзэх дуртай гэр бүлийн нэвтрүүлгийн төрөл:</td>\n",
       "      <td>NaN</td>\n",
       "      <td>status</td>\n",
       "      <td>NaN</td>\n",
       "      <td>2011-04-18 22:26:26</td>\n",
       "      <td>4</td>\n",
       "      <td>1</td>\n",
       "      <td>0</td>\n",
       "      <td>4</td>\n",
       "      <td>0</td>\n",
       "      <td>0</td>\n",
       "      <td>0</td>\n",
       "      <td>0</td>\n",
       "      <td>0</td>\n",
       "    </tr>\n",
       "    <tr>\n",
       "      <th>3211</th>\n",
       "      <td>156915824368931_156918104368703</td>\n",
       "      <td>Mongol TV is on facebook...</td>\n",
       "      <td>NaN</td>\n",
       "      <td>status</td>\n",
       "      <td>NaN</td>\n",
       "      <td>2011-04-05 02:45:42</td>\n",
       "      <td>10</td>\n",
       "      <td>5</td>\n",
       "      <td>0</td>\n",
       "      <td>10</td>\n",
       "      <td>0</td>\n",
       "      <td>0</td>\n",
       "      <td>0</td>\n",
       "      <td>0</td>\n",
       "      <td>0</td>\n",
       "    </tr>\n",
       "  </tbody>\n",
       "</table>\n",
       "</div>"
      ],
      "text/plain": [
       "                            status_id  \\\n",
       "3207  156915824368931_185253524868494   \n",
       "3208  156915824368931_161390890588091   \n",
       "3209  156915824368931_188651037848505   \n",
       "3210  156915824368931_159670110760169   \n",
       "3211  156915824368931_156918104368703   \n",
       "\n",
       "                                         status_message  \\\n",
       "3207  RT @historychannel: THIS DAY IN HISTORY: 1999 ...   \n",
       "3208  Check out the latest premiering on our screen ...   \n",
       "3209  Манай дэлэгцнээ гарч буй шинэ нэвтрүүлгүүд бол...   \n",
       "3210   Таны үзэх дуртай гэр бүлийн нэвтрүүлгийн төрөл:    \n",
       "3211                        Mongol TV is on facebook...   \n",
       "\n",
       "                                             link_name status_type  \\\n",
       "3207  This Day in History || Энэ өдөр түүхийн хуудсанд        link   \n",
       "3208                                               NaN      status   \n",
       "3209                                  Монгол ТВ | HDTV        link   \n",
       "3210                                               NaN      status   \n",
       "3211                                               NaN      status   \n",
       "\n",
       "                  status_link     status_published  num_reactions  \\\n",
       "3207     http://bit.ly/ouNIhf  2011-07-18 18:29:23              0   \n",
       "3208                      NaN  2011-04-26 20:47:45              0   \n",
       "3209  http://www.mongoltv.mn/  2011-04-26 20:45:21              2   \n",
       "3210                      NaN  2011-04-18 22:26:26              4   \n",
       "3211                      NaN  2011-04-05 02:45:42             10   \n",
       "\n",
       "      num_comments  num_shares  num_likes  num_loves  num_wows  num_hahas  \\\n",
       "3207             0           0          0          0         0          0   \n",
       "3208             0           0          0          0         0          0   \n",
       "3209             3           0          2          0         0          0   \n",
       "3210             1           0          4          0         0          0   \n",
       "3211             5           0         10          0         0          0   \n",
       "\n",
       "      num_sads  num_angrys  \n",
       "3207         0           0  \n",
       "3208         0           0  \n",
       "3209         0           0  \n",
       "3210         0           0  \n",
       "3211         0           0  "
      ]
     },
     "execution_count": 99,
     "metadata": {},
     "output_type": "execute_result"
    }
   ],
   "source": [
    "fbdata.tail()"
   ]
  },
  {
   "cell_type": "markdown",
   "metadata": {
    "nbpresent": {
     "id": "278a1d8d-5c08-4e1f-9c2c-7ea074078ea8"
    }
   },
   "source": [
    "Дээрхи хүснэгт дээр хэд хэдэн NaN зүйлс байгааг харж байгаа байх. Энэ нь тухайн хэсэг дээр утга байхгүй байгааг илэрхийлж байгаа юм"
   ]
  },
  {
   "cell_type": "code",
   "execution_count": 100,
   "metadata": {
    "collapsed": false,
    "nbpresent": {
     "id": "2f0a826e-9771-4f25-89bf-f00ba178c18e"
    }
   },
   "outputs": [
    {
     "data": {
      "text/html": [
       "<div>\n",
       "<table border=\"1\" class=\"dataframe\">\n",
       "  <thead>\n",
       "    <tr style=\"text-align: right;\">\n",
       "      <th></th>\n",
       "      <th>status_id</th>\n",
       "      <th>status_message</th>\n",
       "      <th>link_name</th>\n",
       "      <th>status_type</th>\n",
       "      <th>status_link</th>\n",
       "      <th>status_published</th>\n",
       "      <th>num_reactions</th>\n",
       "      <th>num_comments</th>\n",
       "      <th>num_shares</th>\n",
       "      <th>num_likes</th>\n",
       "      <th>num_loves</th>\n",
       "      <th>num_wows</th>\n",
       "      <th>num_hahas</th>\n",
       "      <th>num_sads</th>\n",
       "      <th>num_angrys</th>\n",
       "    </tr>\n",
       "  </thead>\n",
       "  <tbody>\n",
       "    <tr>\n",
       "      <th>3207</th>\n",
       "      <td>False</td>\n",
       "      <td>False</td>\n",
       "      <td>False</td>\n",
       "      <td>False</td>\n",
       "      <td>False</td>\n",
       "      <td>False</td>\n",
       "      <td>False</td>\n",
       "      <td>False</td>\n",
       "      <td>False</td>\n",
       "      <td>False</td>\n",
       "      <td>False</td>\n",
       "      <td>False</td>\n",
       "      <td>False</td>\n",
       "      <td>False</td>\n",
       "      <td>False</td>\n",
       "    </tr>\n",
       "    <tr>\n",
       "      <th>3208</th>\n",
       "      <td>False</td>\n",
       "      <td>False</td>\n",
       "      <td>True</td>\n",
       "      <td>False</td>\n",
       "      <td>True</td>\n",
       "      <td>False</td>\n",
       "      <td>False</td>\n",
       "      <td>False</td>\n",
       "      <td>False</td>\n",
       "      <td>False</td>\n",
       "      <td>False</td>\n",
       "      <td>False</td>\n",
       "      <td>False</td>\n",
       "      <td>False</td>\n",
       "      <td>False</td>\n",
       "    </tr>\n",
       "    <tr>\n",
       "      <th>3209</th>\n",
       "      <td>False</td>\n",
       "      <td>False</td>\n",
       "      <td>False</td>\n",
       "      <td>False</td>\n",
       "      <td>False</td>\n",
       "      <td>False</td>\n",
       "      <td>False</td>\n",
       "      <td>False</td>\n",
       "      <td>False</td>\n",
       "      <td>False</td>\n",
       "      <td>False</td>\n",
       "      <td>False</td>\n",
       "      <td>False</td>\n",
       "      <td>False</td>\n",
       "      <td>False</td>\n",
       "    </tr>\n",
       "    <tr>\n",
       "      <th>3210</th>\n",
       "      <td>False</td>\n",
       "      <td>False</td>\n",
       "      <td>True</td>\n",
       "      <td>False</td>\n",
       "      <td>True</td>\n",
       "      <td>False</td>\n",
       "      <td>False</td>\n",
       "      <td>False</td>\n",
       "      <td>False</td>\n",
       "      <td>False</td>\n",
       "      <td>False</td>\n",
       "      <td>False</td>\n",
       "      <td>False</td>\n",
       "      <td>False</td>\n",
       "      <td>False</td>\n",
       "    </tr>\n",
       "    <tr>\n",
       "      <th>3211</th>\n",
       "      <td>False</td>\n",
       "      <td>False</td>\n",
       "      <td>True</td>\n",
       "      <td>False</td>\n",
       "      <td>True</td>\n",
       "      <td>False</td>\n",
       "      <td>False</td>\n",
       "      <td>False</td>\n",
       "      <td>False</td>\n",
       "      <td>False</td>\n",
       "      <td>False</td>\n",
       "      <td>False</td>\n",
       "      <td>False</td>\n",
       "      <td>False</td>\n",
       "      <td>False</td>\n",
       "    </tr>\n",
       "  </tbody>\n",
       "</table>\n",
       "</div>"
      ],
      "text/plain": [
       "     status_id status_message link_name status_type status_link  \\\n",
       "3207     False          False     False       False       False   \n",
       "3208     False          False      True       False        True   \n",
       "3209     False          False     False       False       False   \n",
       "3210     False          False      True       False        True   \n",
       "3211     False          False      True       False        True   \n",
       "\n",
       "     status_published num_reactions num_comments num_shares num_likes  \\\n",
       "3207            False         False        False      False     False   \n",
       "3208            False         False        False      False     False   \n",
       "3209            False         False        False      False     False   \n",
       "3210            False         False        False      False     False   \n",
       "3211            False         False        False      False     False   \n",
       "\n",
       "     num_loves num_wows num_hahas num_sads num_angrys  \n",
       "3207     False    False     False    False      False  \n",
       "3208     False    False     False    False      False  \n",
       "3209     False    False     False    False      False  \n",
       "3210     False    False     False    False      False  \n",
       "3211     False    False     False    False      False  "
      ]
     },
     "execution_count": 100,
     "metadata": {},
     "output_type": "execute_result"
    }
   ],
   "source": [
    "fbdata.isnull().tail()"
   ]
  },
  {
   "cell_type": "code",
   "execution_count": 101,
   "metadata": {
    "collapsed": false,
    "nbpresent": {
     "id": "8f267a07-d5ea-42f4-88e7-d7cf6cb4d57d"
    }
   },
   "outputs": [
    {
     "data": {
      "text/html": [
       "<div>\n",
       "<table border=\"1\" class=\"dataframe\">\n",
       "  <thead>\n",
       "    <tr style=\"text-align: right;\">\n",
       "      <th></th>\n",
       "      <th>status_id</th>\n",
       "      <th>status_message</th>\n",
       "      <th>link_name</th>\n",
       "      <th>status_type</th>\n",
       "      <th>status_link</th>\n",
       "      <th>status_published</th>\n",
       "      <th>num_reactions</th>\n",
       "      <th>num_comments</th>\n",
       "      <th>num_shares</th>\n",
       "      <th>num_likes</th>\n",
       "      <th>num_loves</th>\n",
       "      <th>num_wows</th>\n",
       "      <th>num_hahas</th>\n",
       "      <th>num_sads</th>\n",
       "      <th>num_angrys</th>\n",
       "    </tr>\n",
       "  </thead>\n",
       "  <tbody>\n",
       "    <tr>\n",
       "      <th>3207</th>\n",
       "      <td>True</td>\n",
       "      <td>True</td>\n",
       "      <td>True</td>\n",
       "      <td>True</td>\n",
       "      <td>True</td>\n",
       "      <td>True</td>\n",
       "      <td>True</td>\n",
       "      <td>True</td>\n",
       "      <td>True</td>\n",
       "      <td>True</td>\n",
       "      <td>True</td>\n",
       "      <td>True</td>\n",
       "      <td>True</td>\n",
       "      <td>True</td>\n",
       "      <td>True</td>\n",
       "    </tr>\n",
       "    <tr>\n",
       "      <th>3208</th>\n",
       "      <td>True</td>\n",
       "      <td>True</td>\n",
       "      <td>False</td>\n",
       "      <td>True</td>\n",
       "      <td>False</td>\n",
       "      <td>True</td>\n",
       "      <td>True</td>\n",
       "      <td>True</td>\n",
       "      <td>True</td>\n",
       "      <td>True</td>\n",
       "      <td>True</td>\n",
       "      <td>True</td>\n",
       "      <td>True</td>\n",
       "      <td>True</td>\n",
       "      <td>True</td>\n",
       "    </tr>\n",
       "    <tr>\n",
       "      <th>3209</th>\n",
       "      <td>True</td>\n",
       "      <td>True</td>\n",
       "      <td>True</td>\n",
       "      <td>True</td>\n",
       "      <td>True</td>\n",
       "      <td>True</td>\n",
       "      <td>True</td>\n",
       "      <td>True</td>\n",
       "      <td>True</td>\n",
       "      <td>True</td>\n",
       "      <td>True</td>\n",
       "      <td>True</td>\n",
       "      <td>True</td>\n",
       "      <td>True</td>\n",
       "      <td>True</td>\n",
       "    </tr>\n",
       "    <tr>\n",
       "      <th>3210</th>\n",
       "      <td>True</td>\n",
       "      <td>True</td>\n",
       "      <td>False</td>\n",
       "      <td>True</td>\n",
       "      <td>False</td>\n",
       "      <td>True</td>\n",
       "      <td>True</td>\n",
       "      <td>True</td>\n",
       "      <td>True</td>\n",
       "      <td>True</td>\n",
       "      <td>True</td>\n",
       "      <td>True</td>\n",
       "      <td>True</td>\n",
       "      <td>True</td>\n",
       "      <td>True</td>\n",
       "    </tr>\n",
       "    <tr>\n",
       "      <th>3211</th>\n",
       "      <td>True</td>\n",
       "      <td>True</td>\n",
       "      <td>False</td>\n",
       "      <td>True</td>\n",
       "      <td>False</td>\n",
       "      <td>True</td>\n",
       "      <td>True</td>\n",
       "      <td>True</td>\n",
       "      <td>True</td>\n",
       "      <td>True</td>\n",
       "      <td>True</td>\n",
       "      <td>True</td>\n",
       "      <td>True</td>\n",
       "      <td>True</td>\n",
       "      <td>True</td>\n",
       "    </tr>\n",
       "  </tbody>\n",
       "</table>\n",
       "</div>"
      ],
      "text/plain": [
       "     status_id status_message link_name status_type status_link  \\\n",
       "3207      True           True      True        True        True   \n",
       "3208      True           True     False        True       False   \n",
       "3209      True           True      True        True        True   \n",
       "3210      True           True     False        True       False   \n",
       "3211      True           True     False        True       False   \n",
       "\n",
       "     status_published num_reactions num_comments num_shares num_likes  \\\n",
       "3207             True          True         True       True      True   \n",
       "3208             True          True         True       True      True   \n",
       "3209             True          True         True       True      True   \n",
       "3210             True          True         True       True      True   \n",
       "3211             True          True         True       True      True   \n",
       "\n",
       "     num_loves num_wows num_hahas num_sads num_angrys  \n",
       "3207      True     True      True     True       True  \n",
       "3208      True     True      True     True       True  \n",
       "3209      True     True      True     True       True  \n",
       "3210      True     True      True     True       True  \n",
       "3211      True     True      True     True       True  "
      ]
     },
     "execution_count": 101,
     "metadata": {},
     "output_type": "execute_result"
    }
   ],
   "source": [
    "fbdata.notnull().tail()"
   ]
  },
  {
   "cell_type": "markdown",
   "metadata": {
    "nbpresent": {
     "id": "e06d5ac9-113f-46cf-89e3-a7324c3bc9e9"
    }
   },
   "source": [
    "sum() method нь True False-с True-г нь тоолоод буцаадаг. Тэгвэл isnull-н үр дүнг sum()-р тоолвол:"
   ]
  },
  {
   "cell_type": "code",
   "execution_count": 102,
   "metadata": {
    "collapsed": false,
    "nbpresent": {
     "id": "e4fa9160-b362-43dd-b2e8-a23bc55b97e5"
    },
    "scrolled": true
   },
   "outputs": [
    {
     "data": {
      "text/plain": [
       "status_id             0\n",
       "status_message      563\n",
       "link_name           799\n",
       "status_type           0\n",
       "status_link         464\n",
       "status_published      0\n",
       "num_reactions         0\n",
       "num_comments          0\n",
       "num_shares            0\n",
       "num_likes             0\n",
       "num_loves             0\n",
       "num_wows              0\n",
       "num_hahas             0\n",
       "num_sads              0\n",
       "num_angrys            0\n",
       "dtype: int64"
      ]
     },
     "execution_count": 102,
     "metadata": {},
     "output_type": "execute_result"
    }
   ],
   "source": [
    "fbdata.isnull().sum(axis=0)"
   ]
  },
  {
   "cell_type": "code",
   "execution_count": 103,
   "metadata": {
    "collapsed": false,
    "nbpresent": {
     "id": "1d74f170-1432-49d8-abd8-fa5828dde55d"
    },
    "scrolled": false
   },
   "outputs": [
    {
     "data": {
      "text/html": [
       "<div>\n",
       "<table border=\"1\" class=\"dataframe\">\n",
       "  <thead>\n",
       "    <tr style=\"text-align: right;\">\n",
       "      <th></th>\n",
       "      <th>status_id</th>\n",
       "      <th>status_message</th>\n",
       "      <th>link_name</th>\n",
       "      <th>status_type</th>\n",
       "      <th>status_link</th>\n",
       "      <th>status_published</th>\n",
       "      <th>num_reactions</th>\n",
       "      <th>num_comments</th>\n",
       "      <th>num_shares</th>\n",
       "      <th>num_likes</th>\n",
       "      <th>num_loves</th>\n",
       "      <th>num_wows</th>\n",
       "      <th>num_hahas</th>\n",
       "      <th>num_sads</th>\n",
       "      <th>num_angrys</th>\n",
       "    </tr>\n",
       "  </thead>\n",
       "  <tbody>\n",
       "    <tr>\n",
       "      <th>13</th>\n",
       "      <td>156915824368931_1114026441991193</td>\n",
       "      <td>NaN</td>\n",
       "      <td>Mongol TV's cover photo</td>\n",
       "      <td>photo</td>\n",
       "      <td>https://www.facebook.com/mongoltv/photos/a.321...</td>\n",
       "      <td>2016-07-18 23:24:51</td>\n",
       "      <td>668</td>\n",
       "      <td>114</td>\n",
       "      <td>23</td>\n",
       "      <td>655</td>\n",
       "      <td>11</td>\n",
       "      <td>1</td>\n",
       "      <td>1</td>\n",
       "      <td>0</td>\n",
       "      <td>0</td>\n",
       "    </tr>\n",
       "    <tr>\n",
       "      <th>17</th>\n",
       "      <td>156915824368931_1111189798941524</td>\n",
       "      <td>NaN</td>\n",
       "      <td>Говь-Алтай чиглэлд зорчиж буй жолооч нар анхаа...</td>\n",
       "      <td>link</td>\n",
       "      <td>http://www.olloo.mn/n/31317.html</td>\n",
       "      <td>2016-07-15 01:52:22</td>\n",
       "      <td>40</td>\n",
       "      <td>8</td>\n",
       "      <td>51</td>\n",
       "      <td>35</td>\n",
       "      <td>0</td>\n",
       "      <td>2</td>\n",
       "      <td>0</td>\n",
       "      <td>3</td>\n",
       "      <td>0</td>\n",
       "    </tr>\n",
       "    <tr>\n",
       "      <th>71</th>\n",
       "      <td>156915824368931_1108262952567542</td>\n",
       "      <td>NaN</td>\n",
       "      <td>Mongol TV</td>\n",
       "      <td>link</td>\n",
       "      <td>NaN</td>\n",
       "      <td>2016-07-10 23:14:02</td>\n",
       "      <td>34</td>\n",
       "      <td>9</td>\n",
       "      <td>0</td>\n",
       "      <td>34</td>\n",
       "      <td>0</td>\n",
       "      <td>0</td>\n",
       "      <td>0</td>\n",
       "      <td>0</td>\n",
       "      <td>0</td>\n",
       "    </tr>\n",
       "    <tr>\n",
       "      <th>148</th>\n",
       "      <td>156915824368931_1106886582705179</td>\n",
       "      <td>NaN</td>\n",
       "      <td>Mongol TV</td>\n",
       "      <td>link</td>\n",
       "      <td>NaN</td>\n",
       "      <td>2016-07-08 21:00:12</td>\n",
       "      <td>76</td>\n",
       "      <td>12</td>\n",
       "      <td>0</td>\n",
       "      <td>76</td>\n",
       "      <td>0</td>\n",
       "      <td>0</td>\n",
       "      <td>0</td>\n",
       "      <td>0</td>\n",
       "      <td>0</td>\n",
       "    </tr>\n",
       "    <tr>\n",
       "      <th>150</th>\n",
       "      <td>156915824368931_1106875972706240</td>\n",
       "      <td>NaN</td>\n",
       "      <td>Mongol TV's cover photo</td>\n",
       "      <td>photo</td>\n",
       "      <td>https://www.facebook.com/mongoltv/photos/a.321...</td>\n",
       "      <td>2016-07-08 20:30:49</td>\n",
       "      <td>2194</td>\n",
       "      <td>19</td>\n",
       "      <td>40</td>\n",
       "      <td>2181</td>\n",
       "      <td>7</td>\n",
       "      <td>5</td>\n",
       "      <td>1</td>\n",
       "      <td>0</td>\n",
       "      <td>0</td>\n",
       "    </tr>\n",
       "  </tbody>\n",
       "</table>\n",
       "</div>"
      ],
      "text/plain": [
       "                            status_id status_message  \\\n",
       "13   156915824368931_1114026441991193            NaN   \n",
       "17   156915824368931_1111189798941524            NaN   \n",
       "71   156915824368931_1108262952567542            NaN   \n",
       "148  156915824368931_1106886582705179            NaN   \n",
       "150  156915824368931_1106875972706240            NaN   \n",
       "\n",
       "                                             link_name status_type  \\\n",
       "13                             Mongol TV's cover photo       photo   \n",
       "17   Говь-Алтай чиглэлд зорчиж буй жолооч нар анхаа...        link   \n",
       "71                                           Mongol TV        link   \n",
       "148                                          Mongol TV        link   \n",
       "150                            Mongol TV's cover photo       photo   \n",
       "\n",
       "                                           status_link     status_published  \\\n",
       "13   https://www.facebook.com/mongoltv/photos/a.321...  2016-07-18 23:24:51   \n",
       "17                    http://www.olloo.mn/n/31317.html  2016-07-15 01:52:22   \n",
       "71                                                 NaN  2016-07-10 23:14:02   \n",
       "148                                                NaN  2016-07-08 21:00:12   \n",
       "150  https://www.facebook.com/mongoltv/photos/a.321...  2016-07-08 20:30:49   \n",
       "\n",
       "     num_reactions  num_comments  num_shares  num_likes  num_loves  num_wows  \\\n",
       "13             668           114          23        655         11         1   \n",
       "17              40             8          51         35          0         2   \n",
       "71              34             9           0         34          0         0   \n",
       "148             76            12           0         76          0         0   \n",
       "150           2194            19          40       2181          7         5   \n",
       "\n",
       "     num_hahas  num_sads  num_angrys  \n",
       "13           1         0           0  \n",
       "17           0         3           0  \n",
       "71           0         0           0  \n",
       "148          0         0           0  \n",
       "150          1         0           0  "
      ]
     },
     "execution_count": 103,
     "metadata": {},
     "output_type": "execute_result"
    }
   ],
   "source": [
    "fbdata[(fbdata.status_message.isnull())].head()"
   ]
  },
  {
   "cell_type": "code",
   "execution_count": 104,
   "metadata": {
    "collapsed": false,
    "nbpresent": {
     "id": "d46e63c2-153f-4c25-85c0-7ce9c4c37db6"
    }
   },
   "outputs": [
    {
     "data": {
      "text/plain": [
       "(3212, 15)"
      ]
     },
     "execution_count": 104,
     "metadata": {},
     "output_type": "execute_result"
    }
   ],
   "source": [
    "fbdata.shape"
   ]
  },
  {
   "cell_type": "markdown",
   "metadata": {
    "nbpresent": {
     "id": "6639d784-6a87-4094-8238-84ea89295d4d"
    }
   },
   "source": [
    "##### NaN хэсэгтэй row болгоныг оруулахгүй байхыг хүсвэл dropna method дуудаж болно:"
   ]
  },
  {
   "cell_type": "code",
   "execution_count": 105,
   "metadata": {
    "collapsed": false,
    "nbpresent": {
     "id": "74114e36-0947-465d-9178-49a56d8883c1"
    }
   },
   "outputs": [
    {
     "data": {
      "text/plain": [
       "(1863, 15)"
      ]
     },
     "execution_count": 105,
     "metadata": {},
     "output_type": "execute_result"
    }
   ],
   "source": [
    "fbdata.dropna(how='any').shape"
   ]
  },
  {
   "cell_type": "code",
   "execution_count": 106,
   "metadata": {
    "collapsed": false,
    "nbpresent": {
     "id": "3110509e-5ac4-438a-a7c0-234b975727eb"
    }
   },
   "outputs": [
    {
     "data": {
      "text/html": [
       "<div>\n",
       "<table border=\"1\" class=\"dataframe\">\n",
       "  <thead>\n",
       "    <tr style=\"text-align: right;\">\n",
       "      <th></th>\n",
       "      <th>status_id</th>\n",
       "      <th>status_message</th>\n",
       "      <th>link_name</th>\n",
       "      <th>status_type</th>\n",
       "      <th>status_link</th>\n",
       "      <th>status_published</th>\n",
       "      <th>num_reactions</th>\n",
       "      <th>num_comments</th>\n",
       "      <th>num_shares</th>\n",
       "      <th>num_likes</th>\n",
       "      <th>num_loves</th>\n",
       "      <th>num_wows</th>\n",
       "      <th>num_hahas</th>\n",
       "      <th>num_sads</th>\n",
       "      <th>num_angrys</th>\n",
       "    </tr>\n",
       "  </thead>\n",
       "  <tbody>\n",
       "    <tr>\n",
       "      <th>0</th>\n",
       "      <td>156915824368931_1125851687475335</td>\n",
       "      <td>Өнөөдөр орой хүлээн авч үзээрэй</td>\n",
       "      <td>Timeline Photos</td>\n",
       "      <td>photo</td>\n",
       "      <td>https://www.facebook.com/mongoltv/photos/a.349...</td>\n",
       "      <td>2016-08-05 04:16:11</td>\n",
       "      <td>44</td>\n",
       "      <td>6</td>\n",
       "      <td>1</td>\n",
       "      <td>44</td>\n",
       "      <td>0</td>\n",
       "      <td>0</td>\n",
       "      <td>0</td>\n",
       "      <td>0</td>\n",
       "      <td>0</td>\n",
       "    </tr>\n",
       "    <tr>\n",
       "      <th>2</th>\n",
       "      <td>156915824368931_1125189747541529</td>\n",
       "      <td>Бригад реалити шоу</td>\n",
       "      <td>Шууд эфир /туршилт/</td>\n",
       "      <td>video</td>\n",
       "      <td>https://www.facebook.com/mongoltv/videos/11251...</td>\n",
       "      <td>2016-08-04 04:39:58</td>\n",
       "      <td>293</td>\n",
       "      <td>52</td>\n",
       "      <td>39</td>\n",
       "      <td>276</td>\n",
       "      <td>9</td>\n",
       "      <td>4</td>\n",
       "      <td>1</td>\n",
       "      <td>1</td>\n",
       "      <td>2</td>\n",
       "    </tr>\n",
       "    <tr>\n",
       "      <th>3</th>\n",
       "      <td>156915824368931_1125116847548819</td>\n",
       "      <td>Өнөөдөр орой манай ТВ-ээр</td>\n",
       "      <td>Timeline Photos</td>\n",
       "      <td>photo</td>\n",
       "      <td>https://www.facebook.com/mongoltv/photos/a.349...</td>\n",
       "      <td>2016-08-04 01:57:23</td>\n",
       "      <td>63</td>\n",
       "      <td>18</td>\n",
       "      <td>3</td>\n",
       "      <td>59</td>\n",
       "      <td>1</td>\n",
       "      <td>1</td>\n",
       "      <td>1</td>\n",
       "      <td>0</td>\n",
       "      <td>1</td>\n",
       "    </tr>\n",
       "    <tr>\n",
       "      <th>4</th>\n",
       "      <td>156915824368931_1123607134366457</td>\n",
       "      <td>Өнөө орой</td>\n",
       "      <td>Timeline Photos</td>\n",
       "      <td>photo</td>\n",
       "      <td>https://www.facebook.com/mongoltv/photos/a.349...</td>\n",
       "      <td>2016-08-02 00:30:56</td>\n",
       "      <td>56</td>\n",
       "      <td>14</td>\n",
       "      <td>1</td>\n",
       "      <td>56</td>\n",
       "      <td>0</td>\n",
       "      <td>0</td>\n",
       "      <td>0</td>\n",
       "      <td>0</td>\n",
       "      <td>0</td>\n",
       "    </tr>\n",
       "    <tr>\n",
       "      <th>9</th>\n",
       "      <td>156915824368931_1116179375109233</td>\n",
       "      <td>МонголTV \"Олон улсын эрэн сурвалжлах сэтгүүлчд...</td>\n",
       "      <td>Photos from Mongol TV's post</td>\n",
       "      <td>photo</td>\n",
       "      <td>https://www.facebook.com/mongoltv/photos/a.606...</td>\n",
       "      <td>2016-07-22 06:38:41</td>\n",
       "      <td>221</td>\n",
       "      <td>8</td>\n",
       "      <td>15</td>\n",
       "      <td>211</td>\n",
       "      <td>1</td>\n",
       "      <td>9</td>\n",
       "      <td>0</td>\n",
       "      <td>0</td>\n",
       "      <td>0</td>\n",
       "    </tr>\n",
       "  </tbody>\n",
       "</table>\n",
       "</div>"
      ],
      "text/plain": [
       "                          status_id  \\\n",
       "0  156915824368931_1125851687475335   \n",
       "2  156915824368931_1125189747541529   \n",
       "3  156915824368931_1125116847548819   \n",
       "4  156915824368931_1123607134366457   \n",
       "9  156915824368931_1116179375109233   \n",
       "\n",
       "                                      status_message  \\\n",
       "0                    Өнөөдөр орой хүлээн авч үзээрэй   \n",
       "2                                 Бригад реалити шоу   \n",
       "3                          Өнөөдөр орой манай ТВ-ээр   \n",
       "4                                          Өнөө орой   \n",
       "9  МонголTV \"Олон улсын эрэн сурвалжлах сэтгүүлчд...   \n",
       "\n",
       "                      link_name status_type  \\\n",
       "0               Timeline Photos       photo   \n",
       "2           Шууд эфир /туршилт/       video   \n",
       "3               Timeline Photos       photo   \n",
       "4               Timeline Photos       photo   \n",
       "9  Photos from Mongol TV's post       photo   \n",
       "\n",
       "                                         status_link     status_published  \\\n",
       "0  https://www.facebook.com/mongoltv/photos/a.349...  2016-08-05 04:16:11   \n",
       "2  https://www.facebook.com/mongoltv/videos/11251...  2016-08-04 04:39:58   \n",
       "3  https://www.facebook.com/mongoltv/photos/a.349...  2016-08-04 01:57:23   \n",
       "4  https://www.facebook.com/mongoltv/photos/a.349...  2016-08-02 00:30:56   \n",
       "9  https://www.facebook.com/mongoltv/photos/a.606...  2016-07-22 06:38:41   \n",
       "\n",
       "   num_reactions  num_comments  num_shares  num_likes  num_loves  num_wows  \\\n",
       "0             44             6           1         44          0         0   \n",
       "2            293            52          39        276          9         4   \n",
       "3             63            18           3         59          1         1   \n",
       "4             56            14           1         56          0         0   \n",
       "9            221             8          15        211          1         9   \n",
       "\n",
       "   num_hahas  num_sads  num_angrys  \n",
       "0          0         0           0  \n",
       "2          1         1           2  \n",
       "3          1         0           1  \n",
       "4          0         0           0  \n",
       "9          0         0           0  "
      ]
     },
     "execution_count": 106,
     "metadata": {},
     "output_type": "execute_result"
    }
   ],
   "source": [
    "fbdata.dropna(how='any').head()"
   ]
  },
  {
   "cell_type": "markdown",
   "metadata": {
    "nbpresent": {
     "id": "44ce4992-0e0e-4cc2-86b7-cfc1eafcbc83"
    }
   },
   "source": [
    "##### Хэрэв аль нэг row бүх талбар нь NaN бөгөөд тэдгээрийг хаяхыг хүсвэл:"
   ]
  },
  {
   "cell_type": "code",
   "execution_count": 107,
   "metadata": {
    "collapsed": false,
    "nbpresent": {
     "id": "f4df04ed-3718-4a73-b341-69e095cddcb8"
    }
   },
   "outputs": [
    {
     "data": {
      "text/plain": [
       "(3212, 15)"
      ]
     },
     "execution_count": 107,
     "metadata": {},
     "output_type": "execute_result"
    }
   ],
   "source": [
    "fbdata.dropna(how='all').shape"
   ]
  },
  {
   "cell_type": "markdown",
   "metadata": {
    "nbpresent": {
     "id": "e65acb00-5d8c-43b0-90bf-7c1783548570"
    }
   },
   "source": [
    "##### Заасан column-уудад NaN байгаа бол тэдгээрийг алгасахдаа:"
   ]
  },
  {
   "cell_type": "code",
   "execution_count": 108,
   "metadata": {
    "collapsed": false,
    "nbpresent": {
     "id": "d5188ffc-4be7-4d5c-9758-c54ab58475f4"
    }
   },
   "outputs": [
    {
     "data": {
      "text/plain": [
       "(3209, 15)"
      ]
     },
     "execution_count": 108,
     "metadata": {},
     "output_type": "execute_result"
    }
   ],
   "source": [
    "fbdata.dropna(subset=['status_message','status_link'], how='all').shape"
   ]
  },
  {
   "cell_type": "code",
   "execution_count": 109,
   "metadata": {
    "collapsed": false,
    "nbpresent": {
     "id": "9d7277c9-3b23-4f11-8604-3f2e5d5a179d"
    }
   },
   "outputs": [
    {
     "data": {
      "text/plain": [
       "video     1023\n",
       "photo      968\n",
       "link       704\n",
       "status     455\n",
       "event       62\n",
       "Name: status_type, dtype: int64"
      ]
     },
     "execution_count": 109,
     "metadata": {},
     "output_type": "execute_result"
    }
   ],
   "source": [
    "fbdata['status_type'].value_counts(dropna=False)"
   ]
  },
  {
   "cell_type": "code",
   "execution_count": 110,
   "metadata": {
    "collapsed": false,
    "nbpresent": {
     "id": "2666fc4b-82da-451c-a15f-840d5cc955df"
    }
   },
   "outputs": [
    {
     "data": {
      "text/plain": [
       "video     1023\n",
       "photo      968\n",
       "link       704\n",
       "status     455\n",
       "event       62\n",
       "Name: status_type, dtype: int64"
      ]
     },
     "execution_count": 110,
     "metadata": {},
     "output_type": "execute_result"
    }
   ],
   "source": [
    "fbdata['status_type'].value_counts()"
   ]
  },
  {
   "cell_type": "code",
   "execution_count": 111,
   "metadata": {
    "collapsed": false,
    "nbpresent": {
     "id": "7d518cf3-69f9-4a00-b331-1db37120508a"
    }
   },
   "outputs": [],
   "source": [
    "fbdata['status_message'].fillna(value='0',  inplace=True)"
   ]
  },
  {
   "cell_type": "code",
   "execution_count": 112,
   "metadata": {
    "collapsed": false,
    "nbpresent": {
     "id": "7950dde7-dc04-4f6a-b8d7-685ab622413c"
    }
   },
   "outputs": [
    {
     "data": {
      "text/plain": [
       "video     1023\n",
       "photo      968\n",
       "link       704\n",
       "status     455\n",
       "event       62\n",
       "Name: status_type, dtype: int64"
      ]
     },
     "execution_count": 112,
     "metadata": {},
     "output_type": "execute_result"
    }
   ],
   "source": [
    "fbdata['status_type'].value_counts()"
   ]
  },
  {
   "cell_type": "markdown",
   "metadata": {},
   "source": [
    "### Pandas Index талаар"
   ]
  },
  {
   "cell_type": "code",
   "execution_count": 113,
   "metadata": {
    "collapsed": false,
    "nbpresent": {
     "id": "0fb9b78e-e240-4f4f-8561-e885a54f1028"
    }
   },
   "outputs": [
    {
     "data": {
      "text/plain": [
       "(3212, 15)"
      ]
     },
     "execution_count": 113,
     "metadata": {},
     "output_type": "execute_result"
    }
   ],
   "source": [
    "fbdata.shape"
   ]
  },
  {
   "cell_type": "code",
   "execution_count": 114,
   "metadata": {
    "collapsed": false,
    "nbpresent": {
     "id": "97000458-4e89-4301-bc6b-fdc061a21b3d"
    }
   },
   "outputs": [
    {
     "data": {
      "text/plain": [
       "RangeIndex(start=0, stop=3212, step=1)"
      ]
     },
     "execution_count": 114,
     "metadata": {},
     "output_type": "execute_result"
    }
   ],
   "source": [
    "fbdata.index"
   ]
  },
  {
   "cell_type": "code",
   "execution_count": 115,
   "metadata": {
    "collapsed": false,
    "nbpresent": {
     "id": "8614633b-893b-4394-8931-7e3630dd3a12"
    }
   },
   "outputs": [
    {
     "data": {
      "text/plain": [
       "Index(['status_id', 'status_message', 'link_name', 'status_type',\n",
       "       'status_link', 'status_published', 'num_reactions', 'num_comments',\n",
       "       'num_shares', 'num_likes', 'num_loves', 'num_wows', 'num_hahas',\n",
       "       'num_sads', 'num_angrys'],\n",
       "      dtype='object')"
      ]
     },
     "execution_count": 115,
     "metadata": {},
     "output_type": "execute_result"
    }
   ],
   "source": [
    "fbdata.columns"
   ]
  },
  {
   "cell_type": "code",
   "execution_count": 116,
   "metadata": {
    "collapsed": false,
    "nbpresent": {
     "id": "3bc0fa79-29fa-4eda-8c9d-c3014af87546"
    }
   },
   "outputs": [
    {
     "data": {
      "text/html": [
       "<div>\n",
       "<table border=\"1\" class=\"dataframe\">\n",
       "  <thead>\n",
       "    <tr style=\"text-align: right;\">\n",
       "      <th></th>\n",
       "      <th>status_id</th>\n",
       "      <th>status_message</th>\n",
       "      <th>link_name</th>\n",
       "      <th>status_type</th>\n",
       "      <th>status_link</th>\n",
       "      <th>status_published</th>\n",
       "      <th>num_reactions</th>\n",
       "      <th>num_comments</th>\n",
       "      <th>num_shares</th>\n",
       "      <th>num_likes</th>\n",
       "      <th>num_loves</th>\n",
       "      <th>num_wows</th>\n",
       "      <th>num_hahas</th>\n",
       "      <th>num_sads</th>\n",
       "      <th>num_angrys</th>\n",
       "    </tr>\n",
       "  </thead>\n",
       "  <tbody>\n",
       "    <tr>\n",
       "      <th>2560</th>\n",
       "      <td>156915824368931_475227169195698</td>\n",
       "      <td>Манай Монгол Тв шинэ жилийн баярт зориулан ура...</td>\n",
       "      <td>5in esreg 2</td>\n",
       "      <td>video</td>\n",
       "      <td>http://www.youtube.com/watch?v=8JxA_00dySY</td>\n",
       "      <td>2012-12-25 04:37:59</td>\n",
       "      <td>10</td>\n",
       "      <td>7</td>\n",
       "      <td>0</td>\n",
       "      <td>10</td>\n",
       "      <td>0</td>\n",
       "      <td>0</td>\n",
       "      <td>0</td>\n",
       "      <td>0</td>\n",
       "      <td>0</td>\n",
       "    </tr>\n",
       "    <tr>\n",
       "      <th>2572</th>\n",
       "      <td>156915824368931_450122948381549</td>\n",
       "      <td>0</td>\n",
       "      <td>NaN</td>\n",
       "      <td>video</td>\n",
       "      <td>https://www.facebook.com/mongoltv/videos/45012...</td>\n",
       "      <td>2012-12-15 04:09:00</td>\n",
       "      <td>15</td>\n",
       "      <td>12</td>\n",
       "      <td>2</td>\n",
       "      <td>15</td>\n",
       "      <td>0</td>\n",
       "      <td>0</td>\n",
       "      <td>0</td>\n",
       "      <td>0</td>\n",
       "      <td>0</td>\n",
       "    </tr>\n",
       "    <tr>\n",
       "      <th>2628</th>\n",
       "      <td>156915824368931_407435149324089</td>\n",
       "      <td>http://www.youtube.com/watch?v=RuYUulMrmok&amp;fea...</td>\n",
       "      <td>Эмэгтэйчүүдийн цаг</td>\n",
       "      <td>video</td>\n",
       "      <td>http://www.youtube.com/watch?v=RuYUulMrmok</td>\n",
       "      <td>2012-10-12 05:26:57</td>\n",
       "      <td>8</td>\n",
       "      <td>8</td>\n",
       "      <td>0</td>\n",
       "      <td>8</td>\n",
       "      <td>0</td>\n",
       "      <td>0</td>\n",
       "      <td>0</td>\n",
       "      <td>0</td>\n",
       "      <td>0</td>\n",
       "    </tr>\n",
       "    <tr>\n",
       "      <th>2629</th>\n",
       "      <td>156915824368931_154174531390901</td>\n",
       "      <td>http://www.youtube.com/watch?v=L6aM6nUokFY&amp;fea...</td>\n",
       "      <td>Хязгааргүй аялал</td>\n",
       "      <td>video</td>\n",
       "      <td>http://www.youtube.com/watch?v=L6aM6nUokFY</td>\n",
       "      <td>2012-10-12 05:24:01</td>\n",
       "      <td>11</td>\n",
       "      <td>0</td>\n",
       "      <td>2</td>\n",
       "      <td>11</td>\n",
       "      <td>0</td>\n",
       "      <td>0</td>\n",
       "      <td>0</td>\n",
       "      <td>0</td>\n",
       "      <td>0</td>\n",
       "    </tr>\n",
       "    <tr>\n",
       "      <th>2630</th>\n",
       "      <td>156915824368931_336704529758762</td>\n",
       "      <td>Наашаа цаашаа</td>\n",
       "      <td>Наашаа цаашаа</td>\n",
       "      <td>video</td>\n",
       "      <td>http://www.youtube.com/watch?v=L0M6k5t1iOc</td>\n",
       "      <td>2012-10-12 05:22:16</td>\n",
       "      <td>93</td>\n",
       "      <td>15</td>\n",
       "      <td>3</td>\n",
       "      <td>93</td>\n",
       "      <td>0</td>\n",
       "      <td>0</td>\n",
       "      <td>0</td>\n",
       "      <td>0</td>\n",
       "      <td>0</td>\n",
       "    </tr>\n",
       "  </tbody>\n",
       "</table>\n",
       "</div>"
      ],
      "text/plain": [
       "                            status_id  \\\n",
       "2560  156915824368931_475227169195698   \n",
       "2572  156915824368931_450122948381549   \n",
       "2628  156915824368931_407435149324089   \n",
       "2629  156915824368931_154174531390901   \n",
       "2630  156915824368931_336704529758762   \n",
       "\n",
       "                                         status_message           link_name  \\\n",
       "2560  Манай Монгол Тв шинэ жилийн баярт зориулан ура...         5in esreg 2   \n",
       "2572                                                  0                 NaN   \n",
       "2628  http://www.youtube.com/watch?v=RuYUulMrmok&fea...  Эмэгтэйчүүдийн цаг   \n",
       "2629  http://www.youtube.com/watch?v=L6aM6nUokFY&fea...    Хязгааргүй аялал   \n",
       "2630                                      Наашаа цаашаа       Наашаа цаашаа   \n",
       "\n",
       "     status_type                                        status_link  \\\n",
       "2560       video         http://www.youtube.com/watch?v=8JxA_00dySY   \n",
       "2572       video  https://www.facebook.com/mongoltv/videos/45012...   \n",
       "2628       video         http://www.youtube.com/watch?v=RuYUulMrmok   \n",
       "2629       video         http://www.youtube.com/watch?v=L6aM6nUokFY   \n",
       "2630       video         http://www.youtube.com/watch?v=L0M6k5t1iOc   \n",
       "\n",
       "         status_published  num_reactions  num_comments  num_shares  num_likes  \\\n",
       "2560  2012-12-25 04:37:59             10             7           0         10   \n",
       "2572  2012-12-15 04:09:00             15            12           2         15   \n",
       "2628  2012-10-12 05:26:57              8             8           0          8   \n",
       "2629  2012-10-12 05:24:01             11             0           2         11   \n",
       "2630  2012-10-12 05:22:16             93            15           3         93   \n",
       "\n",
       "      num_loves  num_wows  num_hahas  num_sads  num_angrys  \n",
       "2560          0         0          0         0           0  \n",
       "2572          0         0          0         0           0  \n",
       "2628          0         0          0         0           0  \n",
       "2629          0         0          0         0           0  \n",
       "2630          0         0          0         0           0  "
      ]
     },
     "execution_count": 116,
     "metadata": {},
     "output_type": "execute_result"
    }
   ],
   "source": [
    "fbdata[fbdata.status_type=='video'].tail()"
   ]
  },
  {
   "cell_type": "markdown",
   "metadata": {},
   "source": [
    "##### index-ээр хандаад утгыг нь харуулах бол"
   ]
  },
  {
   "cell_type": "code",
   "execution_count": 117,
   "metadata": {
    "collapsed": false
   },
   "outputs": [
    {
     "data": {
      "text/plain": [
       "'0'"
      ]
     },
     "execution_count": 117,
     "metadata": {},
     "output_type": "execute_result"
    }
   ],
   "source": [
    "fbdata.loc[2572, 'status_message']"
   ]
  },
  {
   "cell_type": "markdown",
   "metadata": {},
   "source": [
    "##### default index-ийг өөрчлөхдөө"
   ]
  },
  {
   "cell_type": "code",
   "execution_count": 118,
   "metadata": {
    "collapsed": true
   },
   "outputs": [],
   "source": [
    "fbdata.set_index('status_id', inplace=True)"
   ]
  },
  {
   "cell_type": "code",
   "execution_count": 119,
   "metadata": {
    "collapsed": false
   },
   "outputs": [
    {
     "data": {
      "text/html": [
       "<div>\n",
       "<table border=\"1\" class=\"dataframe\">\n",
       "  <thead>\n",
       "    <tr style=\"text-align: right;\">\n",
       "      <th></th>\n",
       "      <th>status_message</th>\n",
       "      <th>link_name</th>\n",
       "      <th>status_type</th>\n",
       "      <th>status_link</th>\n",
       "      <th>status_published</th>\n",
       "      <th>num_reactions</th>\n",
       "      <th>num_comments</th>\n",
       "      <th>num_shares</th>\n",
       "      <th>num_likes</th>\n",
       "      <th>num_loves</th>\n",
       "      <th>num_wows</th>\n",
       "      <th>num_hahas</th>\n",
       "      <th>num_sads</th>\n",
       "      <th>num_angrys</th>\n",
       "    </tr>\n",
       "    <tr>\n",
       "      <th>status_id</th>\n",
       "      <th></th>\n",
       "      <th></th>\n",
       "      <th></th>\n",
       "      <th></th>\n",
       "      <th></th>\n",
       "      <th></th>\n",
       "      <th></th>\n",
       "      <th></th>\n",
       "      <th></th>\n",
       "      <th></th>\n",
       "      <th></th>\n",
       "      <th></th>\n",
       "      <th></th>\n",
       "      <th></th>\n",
       "    </tr>\n",
       "  </thead>\n",
       "  <tbody>\n",
       "    <tr>\n",
       "      <th>156915824368931_1125851687475335</th>\n",
       "      <td>Өнөөдөр орой хүлээн авч үзээрэй</td>\n",
       "      <td>Timeline Photos</td>\n",
       "      <td>photo</td>\n",
       "      <td>https://www.facebook.com/mongoltv/photos/a.349...</td>\n",
       "      <td>2016-08-05 04:16:11</td>\n",
       "      <td>44</td>\n",
       "      <td>6</td>\n",
       "      <td>1</td>\n",
       "      <td>44</td>\n",
       "      <td>0</td>\n",
       "      <td>0</td>\n",
       "      <td>0</td>\n",
       "      <td>0</td>\n",
       "      <td>0</td>\n",
       "    </tr>\n",
       "    <tr>\n",
       "      <th>156915824368931_1125254910868346</th>\n",
       "      <td>\"Бригад\" реалити шоуны оролцогчид Сэлэнгэ айма...</td>\n",
       "      <td>NaN</td>\n",
       "      <td>video</td>\n",
       "      <td>https://www.facebook.com/mongoltv/videos/11252...</td>\n",
       "      <td>2016-08-04 07:39:04</td>\n",
       "      <td>34</td>\n",
       "      <td>0</td>\n",
       "      <td>12</td>\n",
       "      <td>32</td>\n",
       "      <td>2</td>\n",
       "      <td>0</td>\n",
       "      <td>0</td>\n",
       "      <td>0</td>\n",
       "      <td>0</td>\n",
       "    </tr>\n",
       "    <tr>\n",
       "      <th>156915824368931_1125189747541529</th>\n",
       "      <td>Бригад реалити шоу</td>\n",
       "      <td>Шууд эфир /туршилт/</td>\n",
       "      <td>video</td>\n",
       "      <td>https://www.facebook.com/mongoltv/videos/11251...</td>\n",
       "      <td>2016-08-04 04:39:58</td>\n",
       "      <td>293</td>\n",
       "      <td>52</td>\n",
       "      <td>39</td>\n",
       "      <td>276</td>\n",
       "      <td>9</td>\n",
       "      <td>4</td>\n",
       "      <td>1</td>\n",
       "      <td>1</td>\n",
       "      <td>2</td>\n",
       "    </tr>\n",
       "    <tr>\n",
       "      <th>156915824368931_1125116847548819</th>\n",
       "      <td>Өнөөдөр орой манай ТВ-ээр</td>\n",
       "      <td>Timeline Photos</td>\n",
       "      <td>photo</td>\n",
       "      <td>https://www.facebook.com/mongoltv/photos/a.349...</td>\n",
       "      <td>2016-08-04 01:57:23</td>\n",
       "      <td>63</td>\n",
       "      <td>18</td>\n",
       "      <td>3</td>\n",
       "      <td>59</td>\n",
       "      <td>1</td>\n",
       "      <td>1</td>\n",
       "      <td>1</td>\n",
       "      <td>0</td>\n",
       "      <td>1</td>\n",
       "    </tr>\n",
       "    <tr>\n",
       "      <th>156915824368931_1123607134366457</th>\n",
       "      <td>Өнөө орой</td>\n",
       "      <td>Timeline Photos</td>\n",
       "      <td>photo</td>\n",
       "      <td>https://www.facebook.com/mongoltv/photos/a.349...</td>\n",
       "      <td>2016-08-02 00:30:56</td>\n",
       "      <td>56</td>\n",
       "      <td>14</td>\n",
       "      <td>1</td>\n",
       "      <td>56</td>\n",
       "      <td>0</td>\n",
       "      <td>0</td>\n",
       "      <td>0</td>\n",
       "      <td>0</td>\n",
       "      <td>0</td>\n",
       "    </tr>\n",
       "  </tbody>\n",
       "</table>\n",
       "</div>"
      ],
      "text/plain": [
       "                                                                     status_message  \\\n",
       "status_id                                                                             \n",
       "156915824368931_1125851687475335                    Өнөөдөр орой хүлээн авч үзээрэй   \n",
       "156915824368931_1125254910868346  \"Бригад\" реалити шоуны оролцогчид Сэлэнгэ айма...   \n",
       "156915824368931_1125189747541529                                 Бригад реалити шоу   \n",
       "156915824368931_1125116847548819                          Өнөөдөр орой манай ТВ-ээр   \n",
       "156915824368931_1123607134366457                                          Өнөө орой   \n",
       "\n",
       "                                            link_name status_type  \\\n",
       "status_id                                                           \n",
       "156915824368931_1125851687475335      Timeline Photos       photo   \n",
       "156915824368931_1125254910868346                  NaN       video   \n",
       "156915824368931_1125189747541529  Шууд эфир /туршилт/       video   \n",
       "156915824368931_1125116847548819      Timeline Photos       photo   \n",
       "156915824368931_1123607134366457      Timeline Photos       photo   \n",
       "\n",
       "                                                                        status_link  \\\n",
       "status_id                                                                             \n",
       "156915824368931_1125851687475335  https://www.facebook.com/mongoltv/photos/a.349...   \n",
       "156915824368931_1125254910868346  https://www.facebook.com/mongoltv/videos/11252...   \n",
       "156915824368931_1125189747541529  https://www.facebook.com/mongoltv/videos/11251...   \n",
       "156915824368931_1125116847548819  https://www.facebook.com/mongoltv/photos/a.349...   \n",
       "156915824368931_1123607134366457  https://www.facebook.com/mongoltv/photos/a.349...   \n",
       "\n",
       "                                     status_published  num_reactions  \\\n",
       "status_id                                                              \n",
       "156915824368931_1125851687475335  2016-08-05 04:16:11             44   \n",
       "156915824368931_1125254910868346  2016-08-04 07:39:04             34   \n",
       "156915824368931_1125189747541529  2016-08-04 04:39:58            293   \n",
       "156915824368931_1125116847548819  2016-08-04 01:57:23             63   \n",
       "156915824368931_1123607134366457  2016-08-02 00:30:56             56   \n",
       "\n",
       "                                  num_comments  num_shares  num_likes  \\\n",
       "status_id                                                               \n",
       "156915824368931_1125851687475335             6           1         44   \n",
       "156915824368931_1125254910868346             0          12         32   \n",
       "156915824368931_1125189747541529            52          39        276   \n",
       "156915824368931_1125116847548819            18           3         59   \n",
       "156915824368931_1123607134366457            14           1         56   \n",
       "\n",
       "                                  num_loves  num_wows  num_hahas  num_sads  \\\n",
       "status_id                                                                    \n",
       "156915824368931_1125851687475335          0         0          0         0   \n",
       "156915824368931_1125254910868346          2         0          0         0   \n",
       "156915824368931_1125189747541529          9         4          1         1   \n",
       "156915824368931_1125116847548819          1         1          1         0   \n",
       "156915824368931_1123607134366457          0         0          0         0   \n",
       "\n",
       "                                  num_angrys  \n",
       "status_id                                     \n",
       "156915824368931_1125851687475335           0  \n",
       "156915824368931_1125254910868346           0  \n",
       "156915824368931_1125189747541529           2  \n",
       "156915824368931_1125116847548819           1  \n",
       "156915824368931_1123607134366457           0  "
      ]
     },
     "execution_count": 119,
     "metadata": {},
     "output_type": "execute_result"
    }
   ],
   "source": [
    "fbdata.head()"
   ]
  },
  {
   "cell_type": "markdown",
   "metadata": {},
   "source": [
    "##### дараах байдлаар харвал индексийг контенттай нь харуулна"
   ]
  },
  {
   "cell_type": "code",
   "execution_count": 120,
   "metadata": {
    "collapsed": false
   },
   "outputs": [
    {
     "data": {
      "text/plain": [
       "status_id\n",
       "156915824368931_1125851687475335    photo\n",
       "156915824368931_1125254910868346    video\n",
       "156915824368931_1125189747541529    video\n",
       "156915824368931_1125116847548819    photo\n",
       "156915824368931_1123607134366457    photo\n",
       "Name: status_type, dtype: object"
      ]
     },
     "execution_count": 120,
     "metadata": {},
     "output_type": "execute_result"
    }
   ],
   "source": [
    "fbdata.status_type.head()"
   ]
  },
  {
   "cell_type": "code",
   "execution_count": 121,
   "metadata": {
    "collapsed": false
   },
   "outputs": [
    {
     "data": {
      "text/plain": [
       "video     1023\n",
       "photo      968\n",
       "link       704\n",
       "status     455\n",
       "event       62\n",
       "Name: status_type, dtype: int64"
      ]
     },
     "execution_count": 121,
     "metadata": {},
     "output_type": "execute_result"
    }
   ],
   "source": [
    "fbdata.status_type.value_counts()"
   ]
  },
  {
   "cell_type": "code",
   "execution_count": 122,
   "metadata": {
    "collapsed": false
   },
   "outputs": [
    {
     "data": {
      "text/plain": [
       "Index(['video', 'photo', 'link', 'status', 'event'], dtype='object')"
      ]
     },
     "execution_count": 122,
     "metadata": {},
     "output_type": "execute_result"
    }
   ],
   "source": [
    "fbdata.status_type.value_counts().index"
   ]
  },
  {
   "cell_type": "code",
   "execution_count": 123,
   "metadata": {
    "collapsed": false
   },
   "outputs": [
    {
     "data": {
      "text/plain": [
       "array([1023,  968,  704,  455,   62])"
      ]
     },
     "execution_count": 123,
     "metadata": {},
     "output_type": "execute_result"
    }
   ],
   "source": [
    "fbdata.status_type.value_counts().values"
   ]
  },
  {
   "cell_type": "code",
   "execution_count": 130,
   "metadata": {
    "collapsed": false
   },
   "outputs": [
    {
     "data": {
      "text/plain": [
       "event       62\n",
       "link       704\n",
       "photo      968\n",
       "status     455\n",
       "video     1023\n",
       "Name: status_type, dtype: int64"
      ]
     },
     "execution_count": 130,
     "metadata": {},
     "output_type": "execute_result"
    }
   ],
   "source": [
    "fbdata.status_type.value_counts().sort_index()"
   ]
  },
  {
   "cell_type": "markdown",
   "metadata": {},
   "source": [
    "#### Pandas Series хэрхэн үүсгэх вэ? "
   ]
  },
  {
   "cell_type": "code",
   "execution_count": 133,
   "metadata": {
    "collapsed": false
   },
   "outputs": [],
   "source": [
    "test = pd.Series([1,3], index=['156915824368931_1123607134366457', '156915824368931_1125116847548819'], name='population')"
   ]
  },
  {
   "cell_type": "code",
   "execution_count": 134,
   "metadata": {
    "collapsed": false
   },
   "outputs": [
    {
     "data": {
      "text/plain": [
       "pandas.core.series.Series"
      ]
     },
     "execution_count": 134,
     "metadata": {},
     "output_type": "execute_result"
    }
   ],
   "source": [
    "type(test)"
   ]
  },
  {
   "cell_type": "code",
   "execution_count": 135,
   "metadata": {
    "collapsed": false
   },
   "outputs": [
    {
     "data": {
      "text/plain": [
       "156915824368931_1123607134366457    1\n",
       "156915824368931_1125116847548819    3\n",
       "Name: population, dtype: int64"
      ]
     },
     "execution_count": 135,
     "metadata": {},
     "output_type": "execute_result"
    }
   ],
   "source": [
    "test"
   ]
  },
  {
   "cell_type": "markdown",
   "metadata": {},
   "source": [
    "concat() нь row-н доор өөр row эсвэл column дээр өөр column залгахад ашиглана"
   ]
  },
  {
   "cell_type": "code",
   "execution_count": 137,
   "metadata": {
    "collapsed": false
   },
   "outputs": [
    {
     "ename": "ValueError",
     "evalue": "cannot reindex from a duplicate axis",
     "output_type": "error",
     "traceback": [
      "\u001b[0;31m---------------------------------------------------------------------------\u001b[0m",
      "\u001b[0;31mValueError\u001b[0m                                Traceback (most recent call last)",
      "\u001b[0;32m<ipython-input-137-7cbbf04ac5ec>\u001b[0m in \u001b[0;36m<module>\u001b[0;34m()\u001b[0m\n\u001b[0;32m----> 1\u001b[0;31m \u001b[0mpd\u001b[0m\u001b[0;34m.\u001b[0m\u001b[0mconcat\u001b[0m\u001b[0;34m(\u001b[0m\u001b[0;34m[\u001b[0m\u001b[0mfbdata\u001b[0m\u001b[0;34m.\u001b[0m\u001b[0mstatus_type\u001b[0m\u001b[0;34m,\u001b[0m \u001b[0mtest\u001b[0m\u001b[0;34m]\u001b[0m\u001b[0;34m,\u001b[0m \u001b[0maxis\u001b[0m\u001b[0;34m=\u001b[0m\u001b[0;36m1\u001b[0m\u001b[0;34m)\u001b[0m\u001b[0;34m.\u001b[0m\u001b[0mhead\u001b[0m\u001b[0;34m(\u001b[0m\u001b[0;34m)\u001b[0m\u001b[0;34m\u001b[0m\u001b[0m\n\u001b[0m",
      "\u001b[0;32m/Users/enod/anaconda/lib/python3.5/site-packages/pandas/tools/merge.py\u001b[0m in \u001b[0;36mconcat\u001b[0;34m(objs, axis, join, join_axes, ignore_index, keys, levels, names, verify_integrity, copy)\u001b[0m\n\u001b[1;32m    833\u001b[0m                        \u001b[0mverify_integrity\u001b[0m\u001b[0;34m=\u001b[0m\u001b[0mverify_integrity\u001b[0m\u001b[0;34m,\u001b[0m\u001b[0;34m\u001b[0m\u001b[0m\n\u001b[1;32m    834\u001b[0m                        copy=copy)\n\u001b[0;32m--> 835\u001b[0;31m     \u001b[0;32mreturn\u001b[0m \u001b[0mop\u001b[0m\u001b[0;34m.\u001b[0m\u001b[0mget_result\u001b[0m\u001b[0;34m(\u001b[0m\u001b[0;34m)\u001b[0m\u001b[0;34m\u001b[0m\u001b[0m\n\u001b[0m\u001b[1;32m    836\u001b[0m \u001b[0;34m\u001b[0m\u001b[0m\n\u001b[1;32m    837\u001b[0m \u001b[0;34m\u001b[0m\u001b[0m\n",
      "\u001b[0;32m/Users/enod/anaconda/lib/python3.5/site-packages/pandas/tools/merge.py\u001b[0m in \u001b[0;36mget_result\u001b[0;34m(self)\u001b[0m\n\u001b[1;32m    988\u001b[0m                 \u001b[0mdata\u001b[0m \u001b[0;34m=\u001b[0m \u001b[0mdict\u001b[0m\u001b[0;34m(\u001b[0m\u001b[0mzip\u001b[0m\u001b[0;34m(\u001b[0m\u001b[0mrange\u001b[0m\u001b[0;34m(\u001b[0m\u001b[0mlen\u001b[0m\u001b[0;34m(\u001b[0m\u001b[0mself\u001b[0m\u001b[0;34m.\u001b[0m\u001b[0mobjs\u001b[0m\u001b[0;34m)\u001b[0m\u001b[0;34m)\u001b[0m\u001b[0;34m,\u001b[0m \u001b[0mself\u001b[0m\u001b[0;34m.\u001b[0m\u001b[0mobjs\u001b[0m\u001b[0;34m)\u001b[0m\u001b[0;34m)\u001b[0m\u001b[0;34m\u001b[0m\u001b[0m\n\u001b[1;32m    989\u001b[0m                 \u001b[0mindex\u001b[0m\u001b[0;34m,\u001b[0m \u001b[0mcolumns\u001b[0m \u001b[0;34m=\u001b[0m \u001b[0mself\u001b[0m\u001b[0;34m.\u001b[0m\u001b[0mnew_axes\u001b[0m\u001b[0;34m\u001b[0m\u001b[0m\n\u001b[0;32m--> 990\u001b[0;31m                 \u001b[0mtmpdf\u001b[0m \u001b[0;34m=\u001b[0m \u001b[0mDataFrame\u001b[0m\u001b[0;34m(\u001b[0m\u001b[0mdata\u001b[0m\u001b[0;34m,\u001b[0m \u001b[0mindex\u001b[0m\u001b[0;34m=\u001b[0m\u001b[0mindex\u001b[0m\u001b[0;34m)\u001b[0m\u001b[0;34m\u001b[0m\u001b[0m\n\u001b[0m\u001b[1;32m    991\u001b[0m                 \u001b[0;31m# checks if the column variable already stores valid column\u001b[0m\u001b[0;34m\u001b[0m\u001b[0;34m\u001b[0m\u001b[0m\n\u001b[1;32m    992\u001b[0m                 \u001b[0;31m# names (because set via the 'key' argument in the 'concat'\u001b[0m\u001b[0;34m\u001b[0m\u001b[0;34m\u001b[0m\u001b[0m\n",
      "\u001b[0;32m/Users/enod/anaconda/lib/python3.5/site-packages/pandas/core/frame.py\u001b[0m in \u001b[0;36m__init__\u001b[0;34m(self, data, index, columns, dtype, copy)\u001b[0m\n\u001b[1;32m    221\u001b[0m                                  dtype=dtype, copy=copy)\n\u001b[1;32m    222\u001b[0m         \u001b[0;32melif\u001b[0m \u001b[0misinstance\u001b[0m\u001b[0;34m(\u001b[0m\u001b[0mdata\u001b[0m\u001b[0;34m,\u001b[0m \u001b[0mdict\u001b[0m\u001b[0;34m)\u001b[0m\u001b[0;34m:\u001b[0m\u001b[0;34m\u001b[0m\u001b[0m\n\u001b[0;32m--> 223\u001b[0;31m             \u001b[0mmgr\u001b[0m \u001b[0;34m=\u001b[0m \u001b[0mself\u001b[0m\u001b[0;34m.\u001b[0m\u001b[0m_init_dict\u001b[0m\u001b[0;34m(\u001b[0m\u001b[0mdata\u001b[0m\u001b[0;34m,\u001b[0m \u001b[0mindex\u001b[0m\u001b[0;34m,\u001b[0m \u001b[0mcolumns\u001b[0m\u001b[0;34m,\u001b[0m \u001b[0mdtype\u001b[0m\u001b[0;34m=\u001b[0m\u001b[0mdtype\u001b[0m\u001b[0;34m)\u001b[0m\u001b[0;34m\u001b[0m\u001b[0m\n\u001b[0m\u001b[1;32m    224\u001b[0m         \u001b[0;32melif\u001b[0m \u001b[0misinstance\u001b[0m\u001b[0;34m(\u001b[0m\u001b[0mdata\u001b[0m\u001b[0;34m,\u001b[0m \u001b[0mma\u001b[0m\u001b[0;34m.\u001b[0m\u001b[0mMaskedArray\u001b[0m\u001b[0;34m)\u001b[0m\u001b[0;34m:\u001b[0m\u001b[0;34m\u001b[0m\u001b[0m\n\u001b[1;32m    225\u001b[0m             \u001b[0;32mimport\u001b[0m \u001b[0mnumpy\u001b[0m\u001b[0;34m.\u001b[0m\u001b[0mma\u001b[0m\u001b[0;34m.\u001b[0m\u001b[0mmrecords\u001b[0m \u001b[0;32mas\u001b[0m \u001b[0mmrecords\u001b[0m\u001b[0;34m\u001b[0m\u001b[0m\n",
      "\u001b[0;32m/Users/enod/anaconda/lib/python3.5/site-packages/pandas/core/frame.py\u001b[0m in \u001b[0;36m_init_dict\u001b[0;34m(self, data, index, columns, dtype)\u001b[0m\n\u001b[1;32m    357\u001b[0m             \u001b[0marrays\u001b[0m \u001b[0;34m=\u001b[0m \u001b[0;34m[\u001b[0m\u001b[0mdata\u001b[0m\u001b[0;34m[\u001b[0m\u001b[0mk\u001b[0m\u001b[0;34m]\u001b[0m \u001b[0;32mfor\u001b[0m \u001b[0mk\u001b[0m \u001b[0;32min\u001b[0m \u001b[0mkeys\u001b[0m\u001b[0;34m]\u001b[0m\u001b[0;34m\u001b[0m\u001b[0m\n\u001b[1;32m    358\u001b[0m \u001b[0;34m\u001b[0m\u001b[0m\n\u001b[0;32m--> 359\u001b[0;31m         \u001b[0;32mreturn\u001b[0m \u001b[0m_arrays_to_mgr\u001b[0m\u001b[0;34m(\u001b[0m\u001b[0marrays\u001b[0m\u001b[0;34m,\u001b[0m \u001b[0mdata_names\u001b[0m\u001b[0;34m,\u001b[0m \u001b[0mindex\u001b[0m\u001b[0;34m,\u001b[0m \u001b[0mcolumns\u001b[0m\u001b[0;34m,\u001b[0m \u001b[0mdtype\u001b[0m\u001b[0;34m=\u001b[0m\u001b[0mdtype\u001b[0m\u001b[0;34m)\u001b[0m\u001b[0;34m\u001b[0m\u001b[0m\n\u001b[0m\u001b[1;32m    360\u001b[0m \u001b[0;34m\u001b[0m\u001b[0m\n\u001b[1;32m    361\u001b[0m     \u001b[0;32mdef\u001b[0m \u001b[0m_init_ndarray\u001b[0m\u001b[0;34m(\u001b[0m\u001b[0mself\u001b[0m\u001b[0;34m,\u001b[0m \u001b[0mvalues\u001b[0m\u001b[0;34m,\u001b[0m \u001b[0mindex\u001b[0m\u001b[0;34m,\u001b[0m \u001b[0mcolumns\u001b[0m\u001b[0;34m,\u001b[0m \u001b[0mdtype\u001b[0m\u001b[0;34m=\u001b[0m\u001b[0;32mNone\u001b[0m\u001b[0;34m,\u001b[0m \u001b[0mcopy\u001b[0m\u001b[0;34m=\u001b[0m\u001b[0;32mFalse\u001b[0m\u001b[0;34m)\u001b[0m\u001b[0;34m:\u001b[0m\u001b[0;34m\u001b[0m\u001b[0m\n",
      "\u001b[0;32m/Users/enod/anaconda/lib/python3.5/site-packages/pandas/core/frame.py\u001b[0m in \u001b[0;36m_arrays_to_mgr\u001b[0;34m(arrays, arr_names, index, columns, dtype)\u001b[0m\n\u001b[1;32m   5243\u001b[0m \u001b[0;34m\u001b[0m\u001b[0m\n\u001b[1;32m   5244\u001b[0m     \u001b[0;31m# don't force copy because getting jammed in an ndarray anyway\u001b[0m\u001b[0;34m\u001b[0m\u001b[0;34m\u001b[0m\u001b[0m\n\u001b[0;32m-> 5245\u001b[0;31m     \u001b[0marrays\u001b[0m \u001b[0;34m=\u001b[0m \u001b[0m_homogenize\u001b[0m\u001b[0;34m(\u001b[0m\u001b[0marrays\u001b[0m\u001b[0;34m,\u001b[0m \u001b[0mindex\u001b[0m\u001b[0;34m,\u001b[0m \u001b[0mdtype\u001b[0m\u001b[0;34m)\u001b[0m\u001b[0;34m\u001b[0m\u001b[0m\n\u001b[0m\u001b[1;32m   5246\u001b[0m \u001b[0;34m\u001b[0m\u001b[0m\n\u001b[1;32m   5247\u001b[0m     \u001b[0;31m# from BlockManager perspective\u001b[0m\u001b[0;34m\u001b[0m\u001b[0;34m\u001b[0m\u001b[0m\n",
      "\u001b[0;32m/Users/enod/anaconda/lib/python3.5/site-packages/pandas/core/frame.py\u001b[0m in \u001b[0;36m_homogenize\u001b[0;34m(data, index, dtype)\u001b[0m\n\u001b[1;32m   5541\u001b[0m                 \u001b[0;31m# Forces alignment. No need to copy data since we\u001b[0m\u001b[0;34m\u001b[0m\u001b[0;34m\u001b[0m\u001b[0m\n\u001b[1;32m   5542\u001b[0m                 \u001b[0;31m# are putting it into an ndarray later\u001b[0m\u001b[0;34m\u001b[0m\u001b[0;34m\u001b[0m\u001b[0m\n\u001b[0;32m-> 5543\u001b[0;31m                 \u001b[0mv\u001b[0m \u001b[0;34m=\u001b[0m \u001b[0mv\u001b[0m\u001b[0;34m.\u001b[0m\u001b[0mreindex\u001b[0m\u001b[0;34m(\u001b[0m\u001b[0mindex\u001b[0m\u001b[0;34m,\u001b[0m \u001b[0mcopy\u001b[0m\u001b[0;34m=\u001b[0m\u001b[0;32mFalse\u001b[0m\u001b[0;34m)\u001b[0m\u001b[0;34m\u001b[0m\u001b[0m\n\u001b[0m\u001b[1;32m   5544\u001b[0m         \u001b[0;32melse\u001b[0m\u001b[0;34m:\u001b[0m\u001b[0;34m\u001b[0m\u001b[0m\n\u001b[1;32m   5545\u001b[0m             \u001b[0;32mif\u001b[0m \u001b[0misinstance\u001b[0m\u001b[0;34m(\u001b[0m\u001b[0mv\u001b[0m\u001b[0;34m,\u001b[0m \u001b[0mdict\u001b[0m\u001b[0;34m)\u001b[0m\u001b[0;34m:\u001b[0m\u001b[0;34m\u001b[0m\u001b[0m\n",
      "\u001b[0;32m/Users/enod/anaconda/lib/python3.5/site-packages/pandas/core/series.py\u001b[0m in \u001b[0;36mreindex\u001b[0;34m(self, index, **kwargs)\u001b[0m\n\u001b[1;32m   2342\u001b[0m     \u001b[0;34m@\u001b[0m\u001b[0mAppender\u001b[0m\u001b[0;34m(\u001b[0m\u001b[0mgeneric\u001b[0m\u001b[0;34m.\u001b[0m\u001b[0m_shared_docs\u001b[0m\u001b[0;34m[\u001b[0m\u001b[0;34m'reindex'\u001b[0m\u001b[0;34m]\u001b[0m \u001b[0;34m%\u001b[0m \u001b[0m_shared_doc_kwargs\u001b[0m\u001b[0;34m)\u001b[0m\u001b[0;34m\u001b[0m\u001b[0m\n\u001b[1;32m   2343\u001b[0m     \u001b[0;32mdef\u001b[0m \u001b[0mreindex\u001b[0m\u001b[0;34m(\u001b[0m\u001b[0mself\u001b[0m\u001b[0;34m,\u001b[0m \u001b[0mindex\u001b[0m\u001b[0;34m=\u001b[0m\u001b[0;32mNone\u001b[0m\u001b[0;34m,\u001b[0m \u001b[0;34m**\u001b[0m\u001b[0mkwargs\u001b[0m\u001b[0;34m)\u001b[0m\u001b[0;34m:\u001b[0m\u001b[0;34m\u001b[0m\u001b[0m\n\u001b[0;32m-> 2344\u001b[0;31m         \u001b[0;32mreturn\u001b[0m \u001b[0msuper\u001b[0m\u001b[0;34m(\u001b[0m\u001b[0mSeries\u001b[0m\u001b[0;34m,\u001b[0m \u001b[0mself\u001b[0m\u001b[0;34m)\u001b[0m\u001b[0;34m.\u001b[0m\u001b[0mreindex\u001b[0m\u001b[0;34m(\u001b[0m\u001b[0mindex\u001b[0m\u001b[0;34m=\u001b[0m\u001b[0mindex\u001b[0m\u001b[0;34m,\u001b[0m \u001b[0;34m**\u001b[0m\u001b[0mkwargs\u001b[0m\u001b[0;34m)\u001b[0m\u001b[0;34m\u001b[0m\u001b[0m\n\u001b[0m\u001b[1;32m   2345\u001b[0m \u001b[0;34m\u001b[0m\u001b[0m\n\u001b[1;32m   2346\u001b[0m     \u001b[0;34m@\u001b[0m\u001b[0mAppender\u001b[0m\u001b[0;34m(\u001b[0m\u001b[0mgeneric\u001b[0m\u001b[0;34m.\u001b[0m\u001b[0m_shared_docs\u001b[0m\u001b[0;34m[\u001b[0m\u001b[0;34m'fillna'\u001b[0m\u001b[0;34m]\u001b[0m \u001b[0;34m%\u001b[0m \u001b[0m_shared_doc_kwargs\u001b[0m\u001b[0;34m)\u001b[0m\u001b[0;34m\u001b[0m\u001b[0m\n",
      "\u001b[0;32m/Users/enod/anaconda/lib/python3.5/site-packages/pandas/core/generic.py\u001b[0m in \u001b[0;36mreindex\u001b[0;34m(self, *args, **kwargs)\u001b[0m\n\u001b[1;32m   2224\u001b[0m         \u001b[0;31m# perform the reindex on the axes\u001b[0m\u001b[0;34m\u001b[0m\u001b[0;34m\u001b[0m\u001b[0m\n\u001b[1;32m   2225\u001b[0m         return self._reindex_axes(axes, level, limit, tolerance, method,\n\u001b[0;32m-> 2226\u001b[0;31m                                   fill_value, copy).__finalize__(self)\n\u001b[0m\u001b[1;32m   2227\u001b[0m \u001b[0;34m\u001b[0m\u001b[0m\n\u001b[1;32m   2228\u001b[0m     def _reindex_axes(self, axes, level, limit, tolerance, method, fill_value,\n",
      "\u001b[0;32m/Users/enod/anaconda/lib/python3.5/site-packages/pandas/core/generic.py\u001b[0m in \u001b[0;36m_reindex_axes\u001b[0;34m(self, axes, level, limit, tolerance, method, fill_value, copy)\u001b[0m\n\u001b[1;32m   2242\u001b[0m             obj = obj._reindex_with_indexers({axis: [new_index, indexer]},\n\u001b[1;32m   2243\u001b[0m                                              \u001b[0mfill_value\u001b[0m\u001b[0;34m=\u001b[0m\u001b[0mfill_value\u001b[0m\u001b[0;34m,\u001b[0m\u001b[0;34m\u001b[0m\u001b[0m\n\u001b[0;32m-> 2244\u001b[0;31m                                              copy=copy, allow_dups=False)\n\u001b[0m\u001b[1;32m   2245\u001b[0m \u001b[0;34m\u001b[0m\u001b[0m\n\u001b[1;32m   2246\u001b[0m         \u001b[0;32mreturn\u001b[0m \u001b[0mobj\u001b[0m\u001b[0;34m\u001b[0m\u001b[0m\n",
      "\u001b[0;32m/Users/enod/anaconda/lib/python3.5/site-packages/pandas/core/generic.py\u001b[0m in \u001b[0;36m_reindex_with_indexers\u001b[0;34m(self, reindexers, fill_value, copy, allow_dups)\u001b[0m\n\u001b[1;32m   2336\u001b[0m                                                 \u001b[0mfill_value\u001b[0m\u001b[0;34m=\u001b[0m\u001b[0mfill_value\u001b[0m\u001b[0;34m,\u001b[0m\u001b[0;34m\u001b[0m\u001b[0m\n\u001b[1;32m   2337\u001b[0m                                                 \u001b[0mallow_dups\u001b[0m\u001b[0;34m=\u001b[0m\u001b[0mallow_dups\u001b[0m\u001b[0;34m,\u001b[0m\u001b[0;34m\u001b[0m\u001b[0m\n\u001b[0;32m-> 2338\u001b[0;31m                                                 copy=copy)\n\u001b[0m\u001b[1;32m   2339\u001b[0m \u001b[0;34m\u001b[0m\u001b[0m\n\u001b[1;32m   2340\u001b[0m         \u001b[0;32mif\u001b[0m \u001b[0mcopy\u001b[0m \u001b[0;32mand\u001b[0m \u001b[0mnew_data\u001b[0m \u001b[0;32mis\u001b[0m \u001b[0mself\u001b[0m\u001b[0;34m.\u001b[0m\u001b[0m_data\u001b[0m\u001b[0;34m:\u001b[0m\u001b[0;34m\u001b[0m\u001b[0m\n",
      "\u001b[0;32m/Users/enod/anaconda/lib/python3.5/site-packages/pandas/core/internals.py\u001b[0m in \u001b[0;36mreindex_indexer\u001b[0;34m(self, new_axis, indexer, axis, fill_value, allow_dups, copy)\u001b[0m\n\u001b[1;32m   3519\u001b[0m         \u001b[0;31m# some axes don't allow reindexing with dups\u001b[0m\u001b[0;34m\u001b[0m\u001b[0;34m\u001b[0m\u001b[0m\n\u001b[1;32m   3520\u001b[0m         \u001b[0;32mif\u001b[0m \u001b[0;32mnot\u001b[0m \u001b[0mallow_dups\u001b[0m\u001b[0;34m:\u001b[0m\u001b[0;34m\u001b[0m\u001b[0m\n\u001b[0;32m-> 3521\u001b[0;31m             \u001b[0mself\u001b[0m\u001b[0;34m.\u001b[0m\u001b[0maxes\u001b[0m\u001b[0;34m[\u001b[0m\u001b[0maxis\u001b[0m\u001b[0;34m]\u001b[0m\u001b[0;34m.\u001b[0m\u001b[0m_can_reindex\u001b[0m\u001b[0;34m(\u001b[0m\u001b[0mindexer\u001b[0m\u001b[0;34m)\u001b[0m\u001b[0;34m\u001b[0m\u001b[0m\n\u001b[0m\u001b[1;32m   3522\u001b[0m \u001b[0;34m\u001b[0m\u001b[0m\n\u001b[1;32m   3523\u001b[0m         \u001b[0;32mif\u001b[0m \u001b[0maxis\u001b[0m \u001b[0;34m>=\u001b[0m \u001b[0mself\u001b[0m\u001b[0;34m.\u001b[0m\u001b[0mndim\u001b[0m\u001b[0;34m:\u001b[0m\u001b[0;34m\u001b[0m\u001b[0m\n",
      "\u001b[0;32m/Users/enod/anaconda/lib/python3.5/site-packages/pandas/indexes/base.py\u001b[0m in \u001b[0;36m_can_reindex\u001b[0;34m(self, indexer)\u001b[0m\n\u001b[1;32m   2206\u001b[0m         \u001b[0;31m# trying to reindex on an axis with duplicates\u001b[0m\u001b[0;34m\u001b[0m\u001b[0;34m\u001b[0m\u001b[0m\n\u001b[1;32m   2207\u001b[0m         \u001b[0;32mif\u001b[0m \u001b[0;32mnot\u001b[0m \u001b[0mself\u001b[0m\u001b[0;34m.\u001b[0m\u001b[0mis_unique\u001b[0m \u001b[0;32mand\u001b[0m \u001b[0mlen\u001b[0m\u001b[0;34m(\u001b[0m\u001b[0mindexer\u001b[0m\u001b[0;34m)\u001b[0m\u001b[0;34m:\u001b[0m\u001b[0;34m\u001b[0m\u001b[0m\n\u001b[0;32m-> 2208\u001b[0;31m             \u001b[0;32mraise\u001b[0m \u001b[0mValueError\u001b[0m\u001b[0;34m(\u001b[0m\u001b[0;34m\"cannot reindex from a duplicate axis\"\u001b[0m\u001b[0;34m)\u001b[0m\u001b[0;34m\u001b[0m\u001b[0m\n\u001b[0m\u001b[1;32m   2209\u001b[0m \u001b[0;34m\u001b[0m\u001b[0m\n\u001b[1;32m   2210\u001b[0m     def reindex(self, target, method=None, level=None, limit=None,\n",
      "\u001b[0;31mValueError\u001b[0m: cannot reindex from a duplicate axis"
     ]
    }
   ],
   "source": [
    "pd.concat([fbdata.status_type, test], axis=1).head()"
   ]
  },
  {
   "cell_type": "code",
   "execution_count": null,
   "metadata": {
    "collapsed": true
   },
   "outputs": [],
   "source": []
  }
 ],
 "metadata": {
  "anaconda-cloud": {},
  "kernelspec": {
   "display_name": "Python [Root]",
   "language": "python",
   "name": "Python [Root]"
  },
  "language_info": {
   "codemirror_mode": {
    "name": "ipython",
    "version": 3
   },
   "file_extension": ".py",
   "mimetype": "text/x-python",
   "name": "python",
   "nbconvert_exporter": "python",
   "pygments_lexer": "ipython3",
   "version": "3.5.2"
  },
  "nbpresent": {
   "slides": {
    "026c72e2-2463-4655-9928-f2e26e7a0700": {
     "id": "026c72e2-2463-4655-9928-f2e26e7a0700",
     "prev": "a3a422a1-6886-421f-b744-65129c3b89c5",
     "regions": {
      "c75d5713-fdc1-463d-9c68-09d1a0379638": {
       "attrs": {
        "height": 0.8,
        "width": 0.8,
        "x": 0.1,
        "y": 0.1
       },
       "content": {
        "cell": "f4df04ed-3718-4a73-b341-69e095cddcb8",
        "part": "whole"
       },
       "id": "c75d5713-fdc1-463d-9c68-09d1a0379638"
      }
     }
    },
    "056bf9ce-259e-498d-b283-c0276f90cec5": {
     "id": "056bf9ce-259e-498d-b283-c0276f90cec5",
     "prev": "751b85f1-10e0-43f4-a888-42b1a5d372c2",
     "regions": {
      "41a9580b-1f42-4d64-b0fb-8f8a1270a733": {
       "attrs": {
        "height": 0.8,
        "width": 0.8,
        "x": 0.1,
        "y": 0.1
       },
       "content": {
        "cell": "9b10734a-7b04-4c48-9fbf-3889e67e8e1b",
        "part": "whole"
       },
       "id": "41a9580b-1f42-4d64-b0fb-8f8a1270a733"
      }
     }
    },
    "07cdecec-7035-47aa-a520-73b881a55f49": {
     "id": "07cdecec-7035-47aa-a520-73b881a55f49",
     "prev": "6d2759c3-6bb6-471c-95fa-332e78f5f965",
     "regions": {
      "48f64916-9eda-45aa-9b66-e45ff30c77f5": {
       "attrs": {
        "height": 0.8,
        "width": 0.8,
        "x": 0.1,
        "y": 0.1
       },
       "content": {
        "cell": "8f267a07-d5ea-42f4-88e7-d7cf6cb4d57d",
        "part": "whole"
       },
       "id": "48f64916-9eda-45aa-9b66-e45ff30c77f5"
      }
     }
    },
    "082c725a-c85a-4bd5-b2cf-29856f88a039": {
     "id": "082c725a-c85a-4bd5-b2cf-29856f88a039",
     "prev": "39c14e19-a682-40be-a7d5-6e89c26a08ce",
     "regions": {
      "d4ce91e1-f383-4efc-bd74-5c091a315448": {
       "attrs": {
        "height": 0.8,
        "width": 0.8,
        "x": 0.1,
        "y": 0.1
       },
       "content": {
        "cell": "68b7d8b9-0f87-44d5-8fc3-455327305074",
        "part": "whole"
       },
       "id": "d4ce91e1-f383-4efc-bd74-5c091a315448"
      }
     }
    },
    "0b578d6d-c2c2-4b18-b5af-cac93df7c781": {
     "id": "0b578d6d-c2c2-4b18-b5af-cac93df7c781",
     "prev": "33dd67ac-6a10-4754-9b9f-9cc66f54ffe3",
     "regions": {
      "359c0a92-02b5-4e79-8727-897db7725963": {
       "attrs": {
        "height": 0.8,
        "width": 0.8,
        "x": 0.1,
        "y": 0.1
       },
       "content": {
        "cell": "8614633b-893b-4394-8931-7e3630dd3a12",
        "part": "whole"
       },
       "id": "359c0a92-02b5-4e79-8727-897db7725963"
      }
     }
    },
    "105ecf02-476b-4a8e-869e-43ea8a0b3d10": {
     "id": "105ecf02-476b-4a8e-869e-43ea8a0b3d10",
     "prev": "38a07320-326f-46a8-baad-fc5825c75b6c",
     "regions": {
      "8100dfc1-d60b-486b-b5d6-f3b279624c5c": {
       "attrs": {
        "height": 0.8,
        "width": 0.8,
        "x": 0.1,
        "y": 0.1
       },
       "content": {
        "cell": "7950dde7-dc04-4f6a-b8d7-685ab622413c",
        "part": "whole"
       },
       "id": "8100dfc1-d60b-486b-b5d6-f3b279624c5c"
      }
     }
    },
    "12da3fd1-4210-4e01-a055-c7a78f450930": {
     "id": "12da3fd1-4210-4e01-a055-c7a78f450930",
     "prev": "dfd9804d-37fd-4fd1-bcdb-c2f59b862785",
     "regions": {
      "60ac4727-14c9-45cd-b01e-b234c8bca9bd": {
       "attrs": {
        "height": 0.8,
        "width": 0.8,
        "x": 0.1,
        "y": 0.1
       },
       "content": {
        "cell": "d6f391a6-909d-4bbc-82e5-08b1ddc12486",
        "part": "whole"
       },
       "id": "60ac4727-14c9-45cd-b01e-b234c8bca9bd"
      }
     }
    },
    "145a0a79-142b-43fb-a283-ae85fdd231b6": {
     "id": "145a0a79-142b-43fb-a283-ae85fdd231b6",
     "prev": "89dbaeff-5d30-48a1-be21-6a31a5dedac8",
     "regions": {
      "ac679324-f01d-4a50-b402-fd1d984b6b1d": {
       "attrs": {
        "height": 0.8,
        "width": 0.8,
        "x": 0.1,
        "y": 0.1
       },
       "content": {
        "cell": "c8d13ae1-65b0-4c14-9afa-446f8af1006b",
        "part": "whole"
       },
       "id": "ac679324-f01d-4a50-b402-fd1d984b6b1d"
      }
     }
    },
    "148e530c-7231-4607-92a9-563f3cd5a8f5": {
     "id": "148e530c-7231-4607-92a9-563f3cd5a8f5",
     "prev": "8a0f4927-5987-48bf-a9fb-f2e48e88fea5",
     "regions": {
      "934a0caf-038d-4670-856a-59f3df34b93e": {
       "attrs": {
        "height": 0.8,
        "width": 0.8,
        "x": 0.1,
        "y": 0.1
       },
       "content": {
        "cell": "3110509e-5ac4-438a-a7c0-234b975727eb",
        "part": "whole"
       },
       "id": "934a0caf-038d-4670-856a-59f3df34b93e"
      }
     }
    },
    "33dd67ac-6a10-4754-9b9f-9cc66f54ffe3": {
     "id": "33dd67ac-6a10-4754-9b9f-9cc66f54ffe3",
     "prev": "b50846c4-0f8f-4092-8b99-fcb936eefa5d",
     "regions": {
      "e1aaf9f0-f6da-4841-9e21-c236caa7bcea": {
       "attrs": {
        "height": 0.8,
        "width": 0.8,
        "x": 0.1,
        "y": 0.1
       },
       "content": {
        "cell": "97000458-4e89-4301-bc6b-fdc061a21b3d",
        "part": "whole"
       },
       "id": "e1aaf9f0-f6da-4841-9e21-c236caa7bcea"
      }
     }
    },
    "38a07320-326f-46a8-baad-fc5825c75b6c": {
     "id": "38a07320-326f-46a8-baad-fc5825c75b6c",
     "prev": "ee335bd5-ffa5-4b69-88be-a34ad4e284e9",
     "regions": {
      "3b44ac06-3257-4d42-9ace-fd12adb3bd9c": {
       "attrs": {
        "height": 0.8,
        "width": 0.8,
        "x": 0.1,
        "y": 0.1
       },
       "content": {
        "cell": "7d518cf3-69f9-4a00-b331-1db37120508a",
        "part": "whole"
       },
       "id": "3b44ac06-3257-4d42-9ace-fd12adb3bd9c"
      }
     }
    },
    "39c14e19-a682-40be-a7d5-6e89c26a08ce": {
     "id": "39c14e19-a682-40be-a7d5-6e89c26a08ce",
     "prev": "abb49673-bc48-4e96-8f10-18ad030dc793",
     "regions": {
      "a7cdfe33-2368-4634-b920-e84a29163af0": {
       "attrs": {
        "height": 0.8,
        "width": 0.8,
        "x": 0.1,
        "y": 0.1
       },
       "content": {
        "cell": "df2e6672-9945-4085-85f7-b2540abbbfea",
        "part": "whole"
       },
       "id": "a7cdfe33-2368-4634-b920-e84a29163af0"
      }
     }
    },
    "4428525f-459d-4c22-a7ad-5ae7ee6a3d17": {
     "id": "4428525f-459d-4c22-a7ad-5ae7ee6a3d17",
     "prev": "07cdecec-7035-47aa-a520-73b881a55f49",
     "regions": {
      "f5227739-e4d5-49ea-8af3-9a806d73eb4e": {
       "attrs": {
        "height": 0.8,
        "width": 0.8,
        "x": 0.1,
        "y": 0.1
       },
       "content": {
        "cell": "e06d5ac9-113f-46cf-89e3-a7324c3bc9e9",
        "part": "whole"
       },
       "id": "f5227739-e4d5-49ea-8af3-9a806d73eb4e"
      }
     }
    },
    "5dbd3153-31c2-4195-ae56-0e73cba80817": {
     "id": "5dbd3153-31c2-4195-ae56-0e73cba80817",
     "prev": "f488702e-4b88-474a-9fb6-f555aa60d3e4",
     "regions": {
      "ab2b0781-db4e-45ae-96d2-0492d4d0293e": {
       "attrs": {
        "height": 0.8,
        "width": 0.8,
        "x": 0.1,
        "y": 0.1
       },
       "content": {
        "cell": "d5188ffc-4be7-4d5c-9758-c54ab58475f4",
        "part": "whole"
       },
       "id": "ab2b0781-db4e-45ae-96d2-0492d4d0293e"
      }
     }
    },
    "5e02eb52-ad5e-49fc-abb0-88dfc8e4e0a5": {
     "id": "5e02eb52-ad5e-49fc-abb0-88dfc8e4e0a5",
     "prev": null,
     "regions": {
      "e2a2fd5c-4882-4785-a141-f895a6342d96": {
       "attrs": {
        "height": 0.8,
        "width": 0.8,
        "x": 0.1,
        "y": 0.1
       },
       "content": {
        "cell": "98067949-f1f0-4e1e-aa7e-ecdd5fd856a7",
        "part": "whole"
       },
       "id": "e2a2fd5c-4882-4785-a141-f895a6342d96"
      }
     }
    },
    "63db116a-296d-403d-aede-8f1010927fca": {
     "id": "63db116a-296d-403d-aede-8f1010927fca",
     "prev": "6c8c7538-75db-4071-87b1-da655cd31e24",
     "regions": {
      "b1d26de8-d8c2-42f6-895e-eb53d9ab7874": {
       "attrs": {
        "height": 0.8,
        "width": 0.8,
        "x": 0.1,
        "y": 0.1
       },
       "content": {
        "cell": "f884788c-9630-4e0d-8b64-7ac6fc449376",
        "part": "whole"
       },
       "id": "b1d26de8-d8c2-42f6-895e-eb53d9ab7874"
      }
     }
    },
    "68d5eb2e-c862-4c60-be11-c23cff00efb1": {
     "id": "68d5eb2e-c862-4c60-be11-c23cff00efb1",
     "prev": "63db116a-296d-403d-aede-8f1010927fca",
     "regions": {
      "53c17645-880a-4eb5-9610-38195517a34d": {
       "attrs": {
        "height": 0.8,
        "width": 0.8,
        "x": 0.1,
        "y": 0.1
       },
       "content": {
        "cell": "f096c315-6c00-41c6-8514-23b848dd0db0",
        "part": "whole"
       },
       "id": "53c17645-880a-4eb5-9610-38195517a34d"
      }
     }
    },
    "6c8c7538-75db-4071-87b1-da655cd31e24": {
     "id": "6c8c7538-75db-4071-87b1-da655cd31e24",
     "prev": "7cc2a871-d5aa-41c5-87b1-e748bf25671d",
     "regions": {
      "348f2377-548d-4c3d-9e2d-638607c18224": {
       "attrs": {
        "height": 0.8,
        "width": 0.8,
        "x": 0.1,
        "y": 0.1
       },
       "content": {
        "cell": "d75d227b-9290-49c8-9141-8cfd302f4d06",
        "part": "whole"
       },
       "id": "348f2377-548d-4c3d-9e2d-638607c18224"
      }
     }
    },
    "6d2759c3-6bb6-471c-95fa-332e78f5f965": {
     "id": "6d2759c3-6bb6-471c-95fa-332e78f5f965",
     "prev": "9df1942d-8ffc-44bd-ba04-15f6013aab0e",
     "regions": {
      "2f22731a-4c34-404d-a3ff-e0a709053d64": {
       "attrs": {
        "height": 0.8,
        "width": 0.8,
        "x": 0.1,
        "y": 0.1
       },
       "content": {
        "cell": "2f0a826e-9771-4f25-89bf-f00ba178c18e",
        "part": "whole"
       },
       "id": "2f22731a-4c34-404d-a3ff-e0a709053d64"
      }
     }
    },
    "751b85f1-10e0-43f4-a888-42b1a5d372c2": {
     "id": "751b85f1-10e0-43f4-a888-42b1a5d372c2",
     "prev": "afb192b6-79ee-40d3-993e-69ef1f2be6ff",
     "regions": {
      "62a928b1-b406-476a-9b46-950ee301b212": {
       "attrs": {
        "height": 0.8,
        "width": 0.8,
        "x": 0.1,
        "y": 0.1
       },
       "content": {
        "cell": "bfec849b-2282-4d9d-8d7c-3485ac92962a",
        "part": "whole"
       },
       "id": "62a928b1-b406-476a-9b46-950ee301b212"
      }
     }
    },
    "7cc2a871-d5aa-41c5-87b1-e748bf25671d": {
     "id": "7cc2a871-d5aa-41c5-87b1-e748bf25671d",
     "prev": "5e02eb52-ad5e-49fc-abb0-88dfc8e4e0a5",
     "regions": {
      "db34d3e8-f2c0-4d5f-8ef5-4eae73214713": {
       "attrs": {
        "height": 0.8,
        "width": 0.8,
        "x": 0.1,
        "y": 0.1
       },
       "content": {
        "cell": "eb573c59-0887-4a71-84a0-955f9180b013",
        "part": "whole"
       },
       "id": "db34d3e8-f2c0-4d5f-8ef5-4eae73214713"
      }
     }
    },
    "82272e52-4bf5-433a-bf8e-39b9bf8d943f": {
     "id": "82272e52-4bf5-433a-bf8e-39b9bf8d943f",
     "prev": "4428525f-459d-4c22-a7ad-5ae7ee6a3d17",
     "regions": {
      "e2772deb-8775-4f03-8ef5-93543085ad1f": {
       "attrs": {
        "height": 0.8,
        "width": 0.8,
        "x": 0.1,
        "y": 0.1
       },
       "content": {
        "cell": "e4fa9160-b362-43dd-b2e8-a23bc55b97e5",
        "part": "whole"
       },
       "id": "e2772deb-8775-4f03-8ef5-93543085ad1f"
      }
     }
    },
    "89dbaeff-5d30-48a1-be21-6a31a5dedac8": {
     "id": "89dbaeff-5d30-48a1-be21-6a31a5dedac8",
     "prev": "68d5eb2e-c862-4c60-be11-c23cff00efb1",
     "regions": {
      "78c2b27b-91f1-41a6-8804-85ed68654b69": {
       "attrs": {
        "height": 0.8,
        "width": 0.8,
        "x": 0.1,
        "y": 0.1
       },
       "content": {
        "cell": "052b554e-3d1b-4df6-81a9-30bab60a689c",
        "part": "whole"
       },
       "id": "78c2b27b-91f1-41a6-8804-85ed68654b69"
      }
     }
    },
    "8a0f4927-5987-48bf-a9fb-f2e48e88fea5": {
     "id": "8a0f4927-5987-48bf-a9fb-f2e48e88fea5",
     "prev": "b9ae9747-cd20-4707-a857-2f8bc752d809",
     "regions": {
      "1244b448-bce6-4f08-9542-44fc275d0423": {
       "attrs": {
        "height": 0.8,
        "width": 0.8,
        "x": 0.1,
        "y": 0.1
       },
       "content": {
        "cell": "74114e36-0947-465d-9178-49a56d8883c1",
        "part": "whole"
       },
       "id": "1244b448-bce6-4f08-9542-44fc275d0423"
      }
     }
    },
    "9df1942d-8ffc-44bd-ba04-15f6013aab0e": {
     "id": "9df1942d-8ffc-44bd-ba04-15f6013aab0e",
     "prev": "ee012237-d98d-4383-97fe-f47a4829bcda",
     "regions": {
      "7cecc484-a472-4c45-bbd2-202b9f889f7c": {
       "attrs": {
        "height": 0.8,
        "width": 0.8,
        "x": 0.1,
        "y": 0.1
       },
       "content": {
        "cell": "278a1d8d-5c08-4e1f-9c2c-7ea074078ea8",
        "part": "whole"
       },
       "id": "7cecc484-a472-4c45-bbd2-202b9f889f7c"
      }
     }
    },
    "9f9fd58a-dd94-4eb9-9240-545aba9370e9": {
     "id": "9f9fd58a-dd94-4eb9-9240-545aba9370e9",
     "prev": "5dbd3153-31c2-4195-ae56-0e73cba80817",
     "regions": {
      "7ed6b14b-3bef-4009-8942-ecc89cb7ff27": {
       "attrs": {
        "height": 0.8,
        "width": 0.8,
        "x": 0.1,
        "y": 0.1
       },
       "content": {
        "cell": "9d7277c9-3b23-4f11-8604-3f2e5d5a179d",
        "part": "whole"
       },
       "id": "7ed6b14b-3bef-4009-8942-ecc89cb7ff27"
      }
     }
    },
    "a3a422a1-6886-421f-b744-65129c3b89c5": {
     "id": "a3a422a1-6886-421f-b744-65129c3b89c5",
     "prev": "148e530c-7231-4607-92a9-563f3cd5a8f5",
     "regions": {
      "74472fba-18e8-4d24-a66c-7c69eddcf629": {
       "attrs": {
        "height": 0.8,
        "width": 0.8,
        "x": 0.1,
        "y": 0.1
       },
       "content": {
        "cell": "44ce4992-0e0e-4cc2-86b7-cfc1eafcbc83",
        "part": "whole"
       },
       "id": "74472fba-18e8-4d24-a66c-7c69eddcf629"
      }
     }
    },
    "abb49673-bc48-4e96-8f10-18ad030dc793": {
     "id": "abb49673-bc48-4e96-8f10-18ad030dc793",
     "prev": "12da3fd1-4210-4e01-a055-c7a78f450930",
     "regions": {
      "4c4db0ee-f338-4bea-bfc1-04aef0e13768": {
       "attrs": {
        "height": 0.8,
        "width": 0.8,
        "x": 0.1,
        "y": 0.1
       },
       "content": {
        "cell": "28ca9d05-2e51-4495-97f3-e084de7ab14f",
        "part": "whole"
       },
       "id": "4c4db0ee-f338-4bea-bfc1-04aef0e13768"
      }
     }
    },
    "afb192b6-79ee-40d3-993e-69ef1f2be6ff": {
     "id": "afb192b6-79ee-40d3-993e-69ef1f2be6ff",
     "prev": "d3407c91-5e26-4002-bb3d-7db0a1f52d21",
     "regions": {
      "6089af14-9c5b-4df5-8938-df3e50ecb25c": {
       "attrs": {
        "height": 0.8,
        "width": 0.8,
        "x": 0.1,
        "y": 0.1
       },
       "content": {
        "cell": "fe37a500-9743-4028-b362-1b2ec3061ddc",
        "part": "whole"
       },
       "id": "6089af14-9c5b-4df5-8938-df3e50ecb25c"
      }
     }
    },
    "b3b137cc-5992-43af-8abd-738261300686": {
     "id": "b3b137cc-5992-43af-8abd-738261300686",
     "prev": "82272e52-4bf5-433a-bf8e-39b9bf8d943f",
     "regions": {
      "198624a0-fdab-4c91-9c48-2bcdffd67dd6": {
       "attrs": {
        "height": 0.8,
        "width": 0.8,
        "x": 0.1,
        "y": 0.1
       },
       "content": {
        "cell": "1d74f170-1432-49d8-abd8-fa5828dde55d",
        "part": "whole"
       },
       "id": "198624a0-fdab-4c91-9c48-2bcdffd67dd6"
      }
     }
    },
    "b50846c4-0f8f-4092-8b99-fcb936eefa5d": {
     "id": "b50846c4-0f8f-4092-8b99-fcb936eefa5d",
     "prev": "105ecf02-476b-4a8e-869e-43ea8a0b3d10",
     "regions": {
      "24eab2f9-51e0-4bbb-a7b4-839218def794": {
       "attrs": {
        "height": 0.8,
        "width": 0.8,
        "x": 0.1,
        "y": 0.1
       },
       "content": {
        "cell": "0fb9b78e-e240-4f4f-8561-e885a54f1028",
        "part": "whole"
       },
       "id": "24eab2f9-51e0-4bbb-a7b4-839218def794"
      }
     }
    },
    "b9ae9747-cd20-4707-a857-2f8bc752d809": {
     "id": "b9ae9747-cd20-4707-a857-2f8bc752d809",
     "prev": "d2af53c3-1074-44d1-b003-f6f42bf2b884",
     "regions": {
      "a2a833a7-5df0-4cd3-9418-2dbd94edb4d4": {
       "attrs": {
        "height": 0.8,
        "width": 0.8,
        "x": 0.1,
        "y": 0.1
       },
       "content": {
        "cell": "6639d784-6a87-4094-8238-84ea89295d4d",
        "part": "whole"
       },
       "id": "a2a833a7-5df0-4cd3-9418-2dbd94edb4d4"
      }
     }
    },
    "c1d92970-20ad-42b3-b028-71072c6de6e5": {
     "id": "c1d92970-20ad-42b3-b028-71072c6de6e5",
     "prev": "0b578d6d-c2c2-4b18-b5af-cac93df7c781",
     "regions": {
      "52809e4c-bdf3-410a-98fb-9bf9fe49dce2": {
       "attrs": {
        "height": 0.8,
        "width": 0.8,
        "x": 0.1,
        "y": 0.1
       },
       "content": {
        "cell": "3bc0fa79-29fa-4eda-8c9d-c3014af87546",
        "part": "whole"
       },
       "id": "52809e4c-bdf3-410a-98fb-9bf9fe49dce2"
      }
     }
    },
    "d2af53c3-1074-44d1-b003-f6f42bf2b884": {
     "id": "d2af53c3-1074-44d1-b003-f6f42bf2b884",
     "prev": "b3b137cc-5992-43af-8abd-738261300686",
     "regions": {
      "9b4c646f-6488-43f8-8e5e-bdb8d31aff23": {
       "attrs": {
        "height": 0.8,
        "width": 0.8,
        "x": 0.1,
        "y": 0.1
       },
       "content": {
        "cell": "d46e63c2-153f-4c25-85c0-7ce9c4c37db6",
        "part": "whole"
       },
       "id": "9b4c646f-6488-43f8-8e5e-bdb8d31aff23"
      }
     }
    },
    "d3407c91-5e26-4002-bb3d-7db0a1f52d21": {
     "id": "d3407c91-5e26-4002-bb3d-7db0a1f52d21",
     "prev": "145a0a79-142b-43fb-a283-ae85fdd231b6",
     "regions": {
      "201c946a-417f-480a-83f0-308e240ba6f2": {
       "attrs": {
        "height": 0.8,
        "width": 0.8,
        "x": 0.1,
        "y": 0.1
       },
       "content": {
        "cell": "054eee9b-7583-4efd-beb7-dec2e82394b4",
        "part": "whole"
       },
       "id": "201c946a-417f-480a-83f0-308e240ba6f2"
      }
     }
    },
    "dfd9804d-37fd-4fd1-bcdb-c2f59b862785": {
     "id": "dfd9804d-37fd-4fd1-bcdb-c2f59b862785",
     "prev": "056bf9ce-259e-498d-b283-c0276f90cec5",
     "regions": {
      "c4648baa-cfb6-45d1-a335-7e6596a14a41": {
       "attrs": {
        "height": 0.8,
        "width": 0.8,
        "x": 0.1,
        "y": 0.1
       },
       "content": {
        "cell": "85961b97-5e12-4d8d-bf61-11938a566d1a",
        "part": "whole"
       },
       "id": "c4648baa-cfb6-45d1-a335-7e6596a14a41"
      }
     }
    },
    "ee012237-d98d-4383-97fe-f47a4829bcda": {
     "id": "ee012237-d98d-4383-97fe-f47a4829bcda",
     "prev": "082c725a-c85a-4bd5-b2cf-29856f88a039",
     "regions": {
      "8791105e-76d0-4852-8747-14d0e4b1c547": {
       "attrs": {
        "height": 0.8,
        "width": 0.8,
        "x": 0.1,
        "y": 0.1
       },
       "content": {
        "cell": "cb057fc7-4437-402d-a2f2-3d094e264fe6",
        "part": "whole"
       },
       "id": "8791105e-76d0-4852-8747-14d0e4b1c547"
      }
     }
    },
    "ee335bd5-ffa5-4b69-88be-a34ad4e284e9": {
     "id": "ee335bd5-ffa5-4b69-88be-a34ad4e284e9",
     "prev": "9f9fd58a-dd94-4eb9-9240-545aba9370e9",
     "regions": {
      "7fdd2139-e0d1-4123-a729-31b7e0e5afbb": {
       "attrs": {
        "height": 0.8,
        "width": 0.8,
        "x": 0.1,
        "y": 0.1
       },
       "content": {
        "cell": "2666fc4b-82da-451c-a15f-840d5cc955df",
        "part": "whole"
       },
       "id": "7fdd2139-e0d1-4123-a729-31b7e0e5afbb"
      }
     }
    },
    "f488702e-4b88-474a-9fb6-f555aa60d3e4": {
     "id": "f488702e-4b88-474a-9fb6-f555aa60d3e4",
     "prev": "026c72e2-2463-4655-9928-f2e26e7a0700",
     "regions": {
      "d94cf768-f670-41dc-b24b-a1be8bbcf5d5": {
       "attrs": {
        "height": 0.8,
        "width": 0.8,
        "x": 0.1,
        "y": 0.1
       },
       "content": {
        "cell": "e65acb00-5d8c-43b0-90bf-7c1783548570",
        "part": "whole"
       },
       "id": "d94cf768-f670-41dc-b24b-a1be8bbcf5d5"
      }
     }
    }
   },
   "themes": {}
  }
 },
 "nbformat": 4,
 "nbformat_minor": 0
}

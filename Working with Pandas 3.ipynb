{
 "cells": [
  {
   "cell_type": "markdown",
   "metadata": {},
   "source": [
    "## loc, iloc, ix гэх мэт dataframe-с row, column сонгох method-ууд хэрхэн ажилладаг вэ?"
   ]
  },
  {
   "cell_type": "code",
   "execution_count": 1,
   "metadata": {
    "collapsed": true
   },
   "outputs": [],
   "source": [
    "import pandas as pd"
   ]
  },
  {
   "cell_type": "code",
   "execution_count": 2,
   "metadata": {
    "collapsed": true
   },
   "outputs": [],
   "source": [
    "fbdata = pd.read_csv('/Users/enod/Development/fb-scrape/facebook-page-post-scraper/156915824368931_facebook_statuses.csv')"
   ]
  },
  {
   "cell_type": "markdown",
   "metadata": {},
   "source": [
    "loc ерөнхийдөө row, column-г сонгохдоо python лист шиг index-р нь зааж сонгож болно"
   ]
  },
  {
   "cell_type": "code",
   "execution_count": 22,
   "metadata": {
    "collapsed": false
   },
   "outputs": [
    {
     "data": {
      "text/html": [
       "<div>\n",
       "<table border=\"1\" class=\"dataframe\">\n",
       "  <thead>\n",
       "    <tr style=\"text-align: right;\">\n",
       "      <th></th>\n",
       "      <th>status_id</th>\n",
       "      <th>status_message</th>\n",
       "      <th>link_name</th>\n",
       "      <th>status_type</th>\n",
       "      <th>status_link</th>\n",
       "      <th>status_published</th>\n",
       "      <th>num_reactions</th>\n",
       "      <th>num_comments</th>\n",
       "      <th>num_shares</th>\n",
       "      <th>num_likes</th>\n",
       "      <th>num_loves</th>\n",
       "      <th>num_wows</th>\n",
       "      <th>num_hahas</th>\n",
       "      <th>num_sads</th>\n",
       "      <th>num_angrys</th>\n",
       "    </tr>\n",
       "  </thead>\n",
       "  <tbody>\n",
       "    <tr>\n",
       "      <th>0</th>\n",
       "      <td>156915824368931_1125851687475335</td>\n",
       "      <td>Өнөөдөр орой хүлээн авч үзээрэй</td>\n",
       "      <td>Timeline Photos</td>\n",
       "      <td>photo</td>\n",
       "      <td>https://www.facebook.com/mongoltv/photos/a.349...</td>\n",
       "      <td>2016-08-05 04:16:11</td>\n",
       "      <td>44</td>\n",
       "      <td>6</td>\n",
       "      <td>1</td>\n",
       "      <td>44</td>\n",
       "      <td>0</td>\n",
       "      <td>0</td>\n",
       "      <td>0</td>\n",
       "      <td>0</td>\n",
       "      <td>0</td>\n",
       "    </tr>\n",
       "    <tr>\n",
       "      <th>1</th>\n",
       "      <td>156915824368931_1125254910868346</td>\n",
       "      <td>\"Бригад\" реалити шоуны оролцогчид Сэлэнгэ айма...</td>\n",
       "      <td>NaN</td>\n",
       "      <td>video</td>\n",
       "      <td>https://www.facebook.com/mongoltv/videos/11252...</td>\n",
       "      <td>2016-08-04 07:39:04</td>\n",
       "      <td>34</td>\n",
       "      <td>0</td>\n",
       "      <td>12</td>\n",
       "      <td>32</td>\n",
       "      <td>2</td>\n",
       "      <td>0</td>\n",
       "      <td>0</td>\n",
       "      <td>0</td>\n",
       "      <td>0</td>\n",
       "    </tr>\n",
       "    <tr>\n",
       "      <th>2</th>\n",
       "      <td>156915824368931_1125189747541529</td>\n",
       "      <td>Бригад реалити шоу</td>\n",
       "      <td>Шууд эфир /туршилт/</td>\n",
       "      <td>video</td>\n",
       "      <td>https://www.facebook.com/mongoltv/videos/11251...</td>\n",
       "      <td>2016-08-04 04:39:58</td>\n",
       "      <td>293</td>\n",
       "      <td>52</td>\n",
       "      <td>39</td>\n",
       "      <td>276</td>\n",
       "      <td>9</td>\n",
       "      <td>4</td>\n",
       "      <td>1</td>\n",
       "      <td>1</td>\n",
       "      <td>2</td>\n",
       "    </tr>\n",
       "  </tbody>\n",
       "</table>\n",
       "</div>"
      ],
      "text/plain": [
       "                          status_id  \\\n",
       "0  156915824368931_1125851687475335   \n",
       "1  156915824368931_1125254910868346   \n",
       "2  156915824368931_1125189747541529   \n",
       "\n",
       "                                      status_message            link_name  \\\n",
       "0                    Өнөөдөр орой хүлээн авч үзээрэй      Timeline Photos   \n",
       "1  \"Бригад\" реалити шоуны оролцогчид Сэлэнгэ айма...                  NaN   \n",
       "2                                 Бригад реалити шоу  Шууд эфир /туршилт/   \n",
       "\n",
       "  status_type                                        status_link  \\\n",
       "0       photo  https://www.facebook.com/mongoltv/photos/a.349...   \n",
       "1       video  https://www.facebook.com/mongoltv/videos/11252...   \n",
       "2       video  https://www.facebook.com/mongoltv/videos/11251...   \n",
       "\n",
       "      status_published  num_reactions  num_comments  num_shares  num_likes  \\\n",
       "0  2016-08-05 04:16:11             44             6           1         44   \n",
       "1  2016-08-04 07:39:04             34             0          12         32   \n",
       "2  2016-08-04 04:39:58            293            52          39        276   \n",
       "\n",
       "   num_loves  num_wows  num_hahas  num_sads  num_angrys  \n",
       "0          0         0          0         0           0  \n",
       "1          2         0          0         0           0  \n",
       "2          9         4          1         1           2  "
      ]
     },
     "execution_count": 22,
     "metadata": {},
     "output_type": "execute_result"
    }
   ],
   "source": [
    "fbdata.loc[:2 , :]"
   ]
  },
  {
   "cell_type": "markdown",
   "metadata": {},
   "source": [
    "Эсвэл index-р нь бус column-аа тодорхой зааж өгч болно. Энэ column-аас тэр column хүртлэхийг сонгох гэх мэт"
   ]
  },
  {
   "cell_type": "code",
   "execution_count": 24,
   "metadata": {
    "collapsed": false
   },
   "outputs": [
    {
     "data": {
      "text/html": [
       "<div>\n",
       "<table border=\"1\" class=\"dataframe\">\n",
       "  <thead>\n",
       "    <tr style=\"text-align: right;\">\n",
       "      <th></th>\n",
       "      <th>status_message</th>\n",
       "      <th>link_name</th>\n",
       "      <th>status_type</th>\n",
       "    </tr>\n",
       "  </thead>\n",
       "  <tbody>\n",
       "    <tr>\n",
       "      <th>0</th>\n",
       "      <td>Өнөөдөр орой хүлээн авч үзээрэй</td>\n",
       "      <td>Timeline Photos</td>\n",
       "      <td>photo</td>\n",
       "    </tr>\n",
       "    <tr>\n",
       "      <th>1</th>\n",
       "      <td>\"Бригад\" реалити шоуны оролцогчид Сэлэнгэ айма...</td>\n",
       "      <td>NaN</td>\n",
       "      <td>video</td>\n",
       "    </tr>\n",
       "    <tr>\n",
       "      <th>2</th>\n",
       "      <td>Бригад реалити шоу</td>\n",
       "      <td>Шууд эфир /туршилт/</td>\n",
       "      <td>video</td>\n",
       "    </tr>\n",
       "  </tbody>\n",
       "</table>\n",
       "</div>"
      ],
      "text/plain": [
       "                                      status_message            link_name  \\\n",
       "0                    Өнөөдөр орой хүлээн авч үзээрэй      Timeline Photos   \n",
       "1  \"Бригад\" реалити шоуны оролцогчид Сэлэнгэ айма...                  NaN   \n",
       "2                                 Бригад реалити шоу  Шууд эфир /туршилт/   \n",
       "\n",
       "  status_type  \n",
       "0       photo  \n",
       "1       video  \n",
       "2       video  "
      ]
     },
     "execution_count": 24,
     "metadata": {},
     "output_type": "execute_result"
    }
   ],
   "source": [
    "fbdata.loc[:2 , 'status_message':'status_type']"
   ]
  },
  {
   "cell_type": "code",
   "execution_count": 31,
   "metadata": {
    "collapsed": false
   },
   "outputs": [
    {
     "data": {
      "text/html": [
       "<div>\n",
       "<table border=\"1\" class=\"dataframe\">\n",
       "  <thead>\n",
       "    <tr style=\"text-align: right;\">\n",
       "      <th></th>\n",
       "      <th>status_message</th>\n",
       "      <th>link_name</th>\n",
       "      <th>status_type</th>\n",
       "    </tr>\n",
       "  </thead>\n",
       "  <tbody>\n",
       "    <tr>\n",
       "      <th>1</th>\n",
       "      <td>\"Бригад\" реалити шоуны оролцогчид Сэлэнгэ айма...</td>\n",
       "      <td>NaN</td>\n",
       "      <td>video</td>\n",
       "    </tr>\n",
       "    <tr>\n",
       "      <th>2</th>\n",
       "      <td>Бригад реалити шоу</td>\n",
       "      <td>Шууд эфир /туршилт/</td>\n",
       "      <td>video</td>\n",
       "    </tr>\n",
       "    <tr>\n",
       "      <th>5</th>\n",
       "      <td>\"Бригад\" реалити шоуны шинэ дугаар 08-р сарын ...</td>\n",
       "      <td>NaN</td>\n",
       "      <td>video</td>\n",
       "    </tr>\n",
       "    <tr>\n",
       "      <th>6</th>\n",
       "      <td>\"Авьяаслаг Монголчууд 2016\" тун удахгүй...</td>\n",
       "      <td>NaN</td>\n",
       "      <td>video</td>\n",
       "    </tr>\n",
       "    <tr>\n",
       "      <th>7</th>\n",
       "      <td>\"Бригад\" реалити шоуны шинэ дугаар 07-р сарын ...</td>\n",
       "      <td>NaN</td>\n",
       "      <td>video</td>\n",
       "    </tr>\n",
       "  </tbody>\n",
       "</table>\n",
       "</div>"
      ],
      "text/plain": [
       "                                      status_message            link_name  \\\n",
       "1  \"Бригад\" реалити шоуны оролцогчид Сэлэнгэ айма...                  NaN   \n",
       "2                                 Бригад реалити шоу  Шууд эфир /туршилт/   \n",
       "5  \"Бригад\" реалити шоуны шинэ дугаар 08-р сарын ...                  NaN   \n",
       "6         \"Авьяаслаг Монголчууд 2016\" тун удахгүй...                  NaN   \n",
       "7  \"Бригад\" реалити шоуны шинэ дугаар 07-р сарын ...                  NaN   \n",
       "\n",
       "  status_type  \n",
       "1       video  \n",
       "2       video  \n",
       "5       video  \n",
       "6       video  \n",
       "7       video  "
      ]
     },
     "execution_count": 31,
     "metadata": {},
     "output_type": "execute_result"
    }
   ],
   "source": [
    "fbdata.loc[fbdata.status_type==\"video\", 'status_message':'status_type'].head()"
   ]
  },
  {
   "cell_type": "markdown",
   "metadata": {},
   "source": [
    "##### iloc loc-тэй адилхан ч integer-р column, row-оо сонгож болно"
   ]
  },
  {
   "cell_type": "markdown",
   "metadata": {},
   "source": [
    "###### доорхи жишээнд эхний 3н row-г 0,1,2,4 дэхь column-тай сонгож байна"
   ]
  },
  {
   "cell_type": "code",
   "execution_count": 41,
   "metadata": {
    "collapsed": false
   },
   "outputs": [
    {
     "data": {
      "text/html": [
       "<div>\n",
       "<table border=\"1\" class=\"dataframe\">\n",
       "  <thead>\n",
       "    <tr style=\"text-align: right;\">\n",
       "      <th></th>\n",
       "      <th>status_id</th>\n",
       "      <th>status_message</th>\n",
       "      <th>link_name</th>\n",
       "      <th>status_link</th>\n",
       "    </tr>\n",
       "  </thead>\n",
       "  <tbody>\n",
       "    <tr>\n",
       "      <th>0</th>\n",
       "      <td>156915824368931_1125851687475335</td>\n",
       "      <td>Өнөөдөр орой хүлээн авч үзээрэй</td>\n",
       "      <td>Timeline Photos</td>\n",
       "      <td>https://www.facebook.com/mongoltv/photos/a.349...</td>\n",
       "    </tr>\n",
       "    <tr>\n",
       "      <th>1</th>\n",
       "      <td>156915824368931_1125254910868346</td>\n",
       "      <td>\"Бригад\" реалити шоуны оролцогчид Сэлэнгэ айма...</td>\n",
       "      <td>NaN</td>\n",
       "      <td>https://www.facebook.com/mongoltv/videos/11252...</td>\n",
       "    </tr>\n",
       "    <tr>\n",
       "      <th>2</th>\n",
       "      <td>156915824368931_1125189747541529</td>\n",
       "      <td>Бригад реалити шоу</td>\n",
       "      <td>Шууд эфир /туршилт/</td>\n",
       "      <td>https://www.facebook.com/mongoltv/videos/11251...</td>\n",
       "    </tr>\n",
       "  </tbody>\n",
       "</table>\n",
       "</div>"
      ],
      "text/plain": [
       "                          status_id  \\\n",
       "0  156915824368931_1125851687475335   \n",
       "1  156915824368931_1125254910868346   \n",
       "2  156915824368931_1125189747541529   \n",
       "\n",
       "                                      status_message            link_name  \\\n",
       "0                    Өнөөдөр орой хүлээн авч үзээрэй      Timeline Photos   \n",
       "1  \"Бригад\" реалити шоуны оролцогчид Сэлэнгэ айма...                  NaN   \n",
       "2                                 Бригад реалити шоу  Шууд эфир /туршилт/   \n",
       "\n",
       "                                         status_link  \n",
       "0  https://www.facebook.com/mongoltv/photos/a.349...  \n",
       "1  https://www.facebook.com/mongoltv/videos/11252...  \n",
       "2  https://www.facebook.com/mongoltv/videos/11251...  "
      ]
     },
     "execution_count": 41,
     "metadata": {},
     "output_type": "execute_result"
    }
   ],
   "source": [
    "fbdata.iloc[:3,[0,1,2,4]]"
   ]
  },
  {
   "cell_type": "markdown",
   "metadata": {},
   "source": [
    "эсвэл range()-р эхний 3н row-г 0-4 хүртэл column-тай сонгох"
   ]
  },
  {
   "cell_type": "code",
   "execution_count": 45,
   "metadata": {
    "collapsed": false
   },
   "outputs": [
    {
     "data": {
      "text/html": [
       "<div>\n",
       "<table border=\"1\" class=\"dataframe\">\n",
       "  <thead>\n",
       "    <tr style=\"text-align: right;\">\n",
       "      <th></th>\n",
       "      <th>status_id</th>\n",
       "      <th>status_message</th>\n",
       "      <th>link_name</th>\n",
       "      <th>status_type</th>\n",
       "    </tr>\n",
       "  </thead>\n",
       "  <tbody>\n",
       "    <tr>\n",
       "      <th>0</th>\n",
       "      <td>156915824368931_1125851687475335</td>\n",
       "      <td>Өнөөдөр орой хүлээн авч үзээрэй</td>\n",
       "      <td>Timeline Photos</td>\n",
       "      <td>photo</td>\n",
       "    </tr>\n",
       "    <tr>\n",
       "      <th>1</th>\n",
       "      <td>156915824368931_1125254910868346</td>\n",
       "      <td>\"Бригад\" реалити шоуны оролцогчид Сэлэнгэ айма...</td>\n",
       "      <td>NaN</td>\n",
       "      <td>video</td>\n",
       "    </tr>\n",
       "    <tr>\n",
       "      <th>2</th>\n",
       "      <td>156915824368931_1125189747541529</td>\n",
       "      <td>Бригад реалити шоу</td>\n",
       "      <td>Шууд эфир /туршилт/</td>\n",
       "      <td>video</td>\n",
       "    </tr>\n",
       "  </tbody>\n",
       "</table>\n",
       "</div>"
      ],
      "text/plain": [
       "                          status_id  \\\n",
       "0  156915824368931_1125851687475335   \n",
       "1  156915824368931_1125254910868346   \n",
       "2  156915824368931_1125189747541529   \n",
       "\n",
       "                                      status_message            link_name  \\\n",
       "0                    Өнөөдөр орой хүлээн авч үзээрэй      Timeline Photos   \n",
       "1  \"Бригад\" реалити шоуны оролцогчид Сэлэнгэ айма...                  NaN   \n",
       "2                                 Бригад реалити шоу  Шууд эфир /туршилт/   \n",
       "\n",
       "  status_type  \n",
       "0       photo  \n",
       "1       video  \n",
       "2       video  "
      ]
     },
     "execution_count": 45,
     "metadata": {},
     "output_type": "execute_result"
    }
   ],
   "source": [
    "fbdata.iloc[:3,0:4]"
   ]
  },
  {
   "cell_type": "markdown",
   "metadata": {},
   "source": [
    "###### ix нь iloc,loc 2н хольц буюу column row сонгохдоо string, integer 2уулангаар нь зааж сонгож болдог"
   ]
  },
  {
   "cell_type": "code",
   "execution_count": 47,
   "metadata": {
    "collapsed": false
   },
   "outputs": [
    {
     "data": {
      "text/plain": [
       "'\"Бригад\" реалити шоуны оролцогчид Сэлэнгэ аймагт. /Бүтэн үзэхээр/'"
      ]
     },
     "execution_count": 47,
     "metadata": {},
     "output_type": "execute_result"
    }
   ],
   "source": [
    "fbdata.ix[1,1]"
   ]
  },
  {
   "cell_type": "code",
   "execution_count": 48,
   "metadata": {
    "collapsed": false
   },
   "outputs": [
    {
     "data": {
      "text/plain": [
       "'\"Бригад\" реалити шоуны оролцогчид Сэлэнгэ аймагт. /Бүтэн үзэхээр/'"
      ]
     },
     "execution_count": 48,
     "metadata": {},
     "output_type": "execute_result"
    }
   ],
   "source": [
    "fbdata.ix[1,'status_message']"
   ]
  },
  {
   "cell_type": "code",
   "execution_count": 49,
   "metadata": {
    "collapsed": false
   },
   "outputs": [
    {
     "data": {
      "text/plain": [
       "status_message    \"Бригад\" реалити шоуны оролцогчид Сэлэнгэ айма...\n",
       "link_name                                                       NaN\n",
       "status_type                                                   video\n",
       "Name: 1, dtype: object"
      ]
     },
     "execution_count": 49,
     "metadata": {},
     "output_type": "execute_result"
    }
   ],
   "source": [
    "fbdata.ix[1,'status_message':'status_type']"
   ]
  },
  {
   "cell_type": "markdown",
   "metadata": {},
   "source": [
    "### Хэзээ inplace хэрэглэх вэ?"
   ]
  },
  {
   "cell_type": "code",
   "execution_count": 52,
   "metadata": {
    "collapsed": false
   },
   "outputs": [
    {
     "data": {
      "text/plain": [
       "(3212, 15)"
      ]
     },
     "execution_count": 52,
     "metadata": {},
     "output_type": "execute_result"
    }
   ],
   "source": [
    "fbdata.shape"
   ]
  },
  {
   "cell_type": "code",
   "execution_count": 53,
   "metadata": {
    "collapsed": false
   },
   "outputs": [
    {
     "data": {
      "text/html": [
       "<div>\n",
       "<table border=\"1\" class=\"dataframe\">\n",
       "  <thead>\n",
       "    <tr style=\"text-align: right;\">\n",
       "      <th></th>\n",
       "      <th>status_id</th>\n",
       "      <th>status_message</th>\n",
       "      <th>link_name</th>\n",
       "      <th>status_type</th>\n",
       "      <th>status_link</th>\n",
       "      <th>status_published</th>\n",
       "      <th>num_reactions</th>\n",
       "      <th>num_comments</th>\n",
       "      <th>num_shares</th>\n",
       "      <th>num_likes</th>\n",
       "      <th>num_loves</th>\n",
       "      <th>num_wows</th>\n",
       "      <th>num_hahas</th>\n",
       "      <th>num_sads</th>\n",
       "      <th>num_angrys</th>\n",
       "    </tr>\n",
       "  </thead>\n",
       "  <tbody>\n",
       "    <tr>\n",
       "      <th>0</th>\n",
       "      <td>156915824368931_1125851687475335</td>\n",
       "      <td>Өнөөдөр орой хүлээн авч үзээрэй</td>\n",
       "      <td>Timeline Photos</td>\n",
       "      <td>photo</td>\n",
       "      <td>https://www.facebook.com/mongoltv/photos/a.349...</td>\n",
       "      <td>2016-08-05 04:16:11</td>\n",
       "      <td>44</td>\n",
       "      <td>6</td>\n",
       "      <td>1</td>\n",
       "      <td>44</td>\n",
       "      <td>0</td>\n",
       "      <td>0</td>\n",
       "      <td>0</td>\n",
       "      <td>0</td>\n",
       "      <td>0</td>\n",
       "    </tr>\n",
       "    <tr>\n",
       "      <th>1</th>\n",
       "      <td>156915824368931_1125254910868346</td>\n",
       "      <td>\"Бригад\" реалити шоуны оролцогчид Сэлэнгэ айма...</td>\n",
       "      <td>NaN</td>\n",
       "      <td>video</td>\n",
       "      <td>https://www.facebook.com/mongoltv/videos/11252...</td>\n",
       "      <td>2016-08-04 07:39:04</td>\n",
       "      <td>34</td>\n",
       "      <td>0</td>\n",
       "      <td>12</td>\n",
       "      <td>32</td>\n",
       "      <td>2</td>\n",
       "      <td>0</td>\n",
       "      <td>0</td>\n",
       "      <td>0</td>\n",
       "      <td>0</td>\n",
       "    </tr>\n",
       "    <tr>\n",
       "      <th>2</th>\n",
       "      <td>156915824368931_1125189747541529</td>\n",
       "      <td>Бригад реалити шоу</td>\n",
       "      <td>Шууд эфир /туршилт/</td>\n",
       "      <td>video</td>\n",
       "      <td>https://www.facebook.com/mongoltv/videos/11251...</td>\n",
       "      <td>2016-08-04 04:39:58</td>\n",
       "      <td>293</td>\n",
       "      <td>52</td>\n",
       "      <td>39</td>\n",
       "      <td>276</td>\n",
       "      <td>9</td>\n",
       "      <td>4</td>\n",
       "      <td>1</td>\n",
       "      <td>1</td>\n",
       "      <td>2</td>\n",
       "    </tr>\n",
       "    <tr>\n",
       "      <th>3</th>\n",
       "      <td>156915824368931_1125116847548819</td>\n",
       "      <td>Өнөөдөр орой манай ТВ-ээр</td>\n",
       "      <td>Timeline Photos</td>\n",
       "      <td>photo</td>\n",
       "      <td>https://www.facebook.com/mongoltv/photos/a.349...</td>\n",
       "      <td>2016-08-04 01:57:23</td>\n",
       "      <td>63</td>\n",
       "      <td>18</td>\n",
       "      <td>3</td>\n",
       "      <td>59</td>\n",
       "      <td>1</td>\n",
       "      <td>1</td>\n",
       "      <td>1</td>\n",
       "      <td>0</td>\n",
       "      <td>1</td>\n",
       "    </tr>\n",
       "    <tr>\n",
       "      <th>4</th>\n",
       "      <td>156915824368931_1123607134366457</td>\n",
       "      <td>Өнөө орой</td>\n",
       "      <td>Timeline Photos</td>\n",
       "      <td>photo</td>\n",
       "      <td>https://www.facebook.com/mongoltv/photos/a.349...</td>\n",
       "      <td>2016-08-02 00:30:56</td>\n",
       "      <td>56</td>\n",
       "      <td>14</td>\n",
       "      <td>1</td>\n",
       "      <td>56</td>\n",
       "      <td>0</td>\n",
       "      <td>0</td>\n",
       "      <td>0</td>\n",
       "      <td>0</td>\n",
       "      <td>0</td>\n",
       "    </tr>\n",
       "  </tbody>\n",
       "</table>\n",
       "</div>"
      ],
      "text/plain": [
       "                          status_id  \\\n",
       "0  156915824368931_1125851687475335   \n",
       "1  156915824368931_1125254910868346   \n",
       "2  156915824368931_1125189747541529   \n",
       "3  156915824368931_1125116847548819   \n",
       "4  156915824368931_1123607134366457   \n",
       "\n",
       "                                      status_message            link_name  \\\n",
       "0                    Өнөөдөр орой хүлээн авч үзээрэй      Timeline Photos   \n",
       "1  \"Бригад\" реалити шоуны оролцогчид Сэлэнгэ айма...                  NaN   \n",
       "2                                 Бригад реалити шоу  Шууд эфир /туршилт/   \n",
       "3                          Өнөөдөр орой манай ТВ-ээр      Timeline Photos   \n",
       "4                                          Өнөө орой      Timeline Photos   \n",
       "\n",
       "  status_type                                        status_link  \\\n",
       "0       photo  https://www.facebook.com/mongoltv/photos/a.349...   \n",
       "1       video  https://www.facebook.com/mongoltv/videos/11252...   \n",
       "2       video  https://www.facebook.com/mongoltv/videos/11251...   \n",
       "3       photo  https://www.facebook.com/mongoltv/photos/a.349...   \n",
       "4       photo  https://www.facebook.com/mongoltv/photos/a.349...   \n",
       "\n",
       "      status_published  num_reactions  num_comments  num_shares  num_likes  \\\n",
       "0  2016-08-05 04:16:11             44             6           1         44   \n",
       "1  2016-08-04 07:39:04             34             0          12         32   \n",
       "2  2016-08-04 04:39:58            293            52          39        276   \n",
       "3  2016-08-04 01:57:23             63            18           3         59   \n",
       "4  2016-08-02 00:30:56             56            14           1         56   \n",
       "\n",
       "   num_loves  num_wows  num_hahas  num_sads  num_angrys  \n",
       "0          0         0          0         0           0  \n",
       "1          2         0          0         0           0  \n",
       "2          9         4          1         1           2  \n",
       "3          1         1          1         0           1  \n",
       "4          0         0          0         0           0  "
      ]
     },
     "execution_count": 53,
     "metadata": {},
     "output_type": "execute_result"
    }
   ],
   "source": [
    "fbdata.head()"
   ]
  },
  {
   "cell_type": "code",
   "execution_count": 55,
   "metadata": {
    "collapsed": false
   },
   "outputs": [
    {
     "data": {
      "text/html": [
       "<div>\n",
       "<table border=\"1\" class=\"dataframe\">\n",
       "  <thead>\n",
       "    <tr style=\"text-align: right;\">\n",
       "      <th></th>\n",
       "      <th>status_message</th>\n",
       "      <th>link_name</th>\n",
       "      <th>status_type</th>\n",
       "      <th>status_link</th>\n",
       "      <th>status_published</th>\n",
       "      <th>num_reactions</th>\n",
       "      <th>num_comments</th>\n",
       "      <th>num_shares</th>\n",
       "      <th>num_likes</th>\n",
       "      <th>num_loves</th>\n",
       "      <th>num_wows</th>\n",
       "      <th>num_hahas</th>\n",
       "      <th>num_sads</th>\n",
       "      <th>num_angrys</th>\n",
       "    </tr>\n",
       "  </thead>\n",
       "  <tbody>\n",
       "    <tr>\n",
       "      <th>0</th>\n",
       "      <td>Өнөөдөр орой хүлээн авч үзээрэй</td>\n",
       "      <td>Timeline Photos</td>\n",
       "      <td>photo</td>\n",
       "      <td>https://www.facebook.com/mongoltv/photos/a.349...</td>\n",
       "      <td>2016-08-05 04:16:11</td>\n",
       "      <td>44</td>\n",
       "      <td>6</td>\n",
       "      <td>1</td>\n",
       "      <td>44</td>\n",
       "      <td>0</td>\n",
       "      <td>0</td>\n",
       "      <td>0</td>\n",
       "      <td>0</td>\n",
       "      <td>0</td>\n",
       "    </tr>\n",
       "    <tr>\n",
       "      <th>1</th>\n",
       "      <td>\"Бригад\" реалити шоуны оролцогчид Сэлэнгэ айма...</td>\n",
       "      <td>NaN</td>\n",
       "      <td>video</td>\n",
       "      <td>https://www.facebook.com/mongoltv/videos/11252...</td>\n",
       "      <td>2016-08-04 07:39:04</td>\n",
       "      <td>34</td>\n",
       "      <td>0</td>\n",
       "      <td>12</td>\n",
       "      <td>32</td>\n",
       "      <td>2</td>\n",
       "      <td>0</td>\n",
       "      <td>0</td>\n",
       "      <td>0</td>\n",
       "      <td>0</td>\n",
       "    </tr>\n",
       "    <tr>\n",
       "      <th>2</th>\n",
       "      <td>Бригад реалити шоу</td>\n",
       "      <td>Шууд эфир /туршилт/</td>\n",
       "      <td>video</td>\n",
       "      <td>https://www.facebook.com/mongoltv/videos/11251...</td>\n",
       "      <td>2016-08-04 04:39:58</td>\n",
       "      <td>293</td>\n",
       "      <td>52</td>\n",
       "      <td>39</td>\n",
       "      <td>276</td>\n",
       "      <td>9</td>\n",
       "      <td>4</td>\n",
       "      <td>1</td>\n",
       "      <td>1</td>\n",
       "      <td>2</td>\n",
       "    </tr>\n",
       "    <tr>\n",
       "      <th>3</th>\n",
       "      <td>Өнөөдөр орой манай ТВ-ээр</td>\n",
       "      <td>Timeline Photos</td>\n",
       "      <td>photo</td>\n",
       "      <td>https://www.facebook.com/mongoltv/photos/a.349...</td>\n",
       "      <td>2016-08-04 01:57:23</td>\n",
       "      <td>63</td>\n",
       "      <td>18</td>\n",
       "      <td>3</td>\n",
       "      <td>59</td>\n",
       "      <td>1</td>\n",
       "      <td>1</td>\n",
       "      <td>1</td>\n",
       "      <td>0</td>\n",
       "      <td>1</td>\n",
       "    </tr>\n",
       "    <tr>\n",
       "      <th>4</th>\n",
       "      <td>Өнөө орой</td>\n",
       "      <td>Timeline Photos</td>\n",
       "      <td>photo</td>\n",
       "      <td>https://www.facebook.com/mongoltv/photos/a.349...</td>\n",
       "      <td>2016-08-02 00:30:56</td>\n",
       "      <td>56</td>\n",
       "      <td>14</td>\n",
       "      <td>1</td>\n",
       "      <td>56</td>\n",
       "      <td>0</td>\n",
       "      <td>0</td>\n",
       "      <td>0</td>\n",
       "      <td>0</td>\n",
       "      <td>0</td>\n",
       "    </tr>\n",
       "  </tbody>\n",
       "</table>\n",
       "</div>"
      ],
      "text/plain": [
       "                                      status_message            link_name  \\\n",
       "0                    Өнөөдөр орой хүлээн авч үзээрэй      Timeline Photos   \n",
       "1  \"Бригад\" реалити шоуны оролцогчид Сэлэнгэ айма...                  NaN   \n",
       "2                                 Бригад реалити шоу  Шууд эфир /туршилт/   \n",
       "3                          Өнөөдөр орой манай ТВ-ээр      Timeline Photos   \n",
       "4                                          Өнөө орой      Timeline Photos   \n",
       "\n",
       "  status_type                                        status_link  \\\n",
       "0       photo  https://www.facebook.com/mongoltv/photos/a.349...   \n",
       "1       video  https://www.facebook.com/mongoltv/videos/11252...   \n",
       "2       video  https://www.facebook.com/mongoltv/videos/11251...   \n",
       "3       photo  https://www.facebook.com/mongoltv/photos/a.349...   \n",
       "4       photo  https://www.facebook.com/mongoltv/photos/a.349...   \n",
       "\n",
       "      status_published  num_reactions  num_comments  num_shares  num_likes  \\\n",
       "0  2016-08-05 04:16:11             44             6           1         44   \n",
       "1  2016-08-04 07:39:04             34             0          12         32   \n",
       "2  2016-08-04 04:39:58            293            52          39        276   \n",
       "3  2016-08-04 01:57:23             63            18           3         59   \n",
       "4  2016-08-02 00:30:56             56            14           1         56   \n",
       "\n",
       "   num_loves  num_wows  num_hahas  num_sads  num_angrys  \n",
       "0          0         0          0         0           0  \n",
       "1          2         0          0         0           0  \n",
       "2          9         4          1         1           2  \n",
       "3          1         1          1         0           1  \n",
       "4          0         0          0         0           0  "
      ]
     },
     "execution_count": 55,
     "metadata": {},
     "output_type": "execute_result"
    }
   ],
   "source": [
    "fbdata.drop('status_id', axis=1).head()"
   ]
  },
  {
   "cell_type": "markdown",
   "metadata": {},
   "source": [
    "Дээрхи дээр хэдий status_id баганыг арилгасан ч яг датад бол өөрчлөлт ороогүй байгаа. Шалгая:"
   ]
  },
  {
   "cell_type": "code",
   "execution_count": 56,
   "metadata": {
    "collapsed": false
   },
   "outputs": [
    {
     "data": {
      "text/html": [
       "<div>\n",
       "<table border=\"1\" class=\"dataframe\">\n",
       "  <thead>\n",
       "    <tr style=\"text-align: right;\">\n",
       "      <th></th>\n",
       "      <th>status_id</th>\n",
       "      <th>status_message</th>\n",
       "      <th>link_name</th>\n",
       "      <th>status_type</th>\n",
       "      <th>status_link</th>\n",
       "      <th>status_published</th>\n",
       "      <th>num_reactions</th>\n",
       "      <th>num_comments</th>\n",
       "      <th>num_shares</th>\n",
       "      <th>num_likes</th>\n",
       "      <th>num_loves</th>\n",
       "      <th>num_wows</th>\n",
       "      <th>num_hahas</th>\n",
       "      <th>num_sads</th>\n",
       "      <th>num_angrys</th>\n",
       "    </tr>\n",
       "  </thead>\n",
       "  <tbody>\n",
       "    <tr>\n",
       "      <th>0</th>\n",
       "      <td>156915824368931_1125851687475335</td>\n",
       "      <td>Өнөөдөр орой хүлээн авч үзээрэй</td>\n",
       "      <td>Timeline Photos</td>\n",
       "      <td>photo</td>\n",
       "      <td>https://www.facebook.com/mongoltv/photos/a.349...</td>\n",
       "      <td>2016-08-05 04:16:11</td>\n",
       "      <td>44</td>\n",
       "      <td>6</td>\n",
       "      <td>1</td>\n",
       "      <td>44</td>\n",
       "      <td>0</td>\n",
       "      <td>0</td>\n",
       "      <td>0</td>\n",
       "      <td>0</td>\n",
       "      <td>0</td>\n",
       "    </tr>\n",
       "    <tr>\n",
       "      <th>1</th>\n",
       "      <td>156915824368931_1125254910868346</td>\n",
       "      <td>\"Бригад\" реалити шоуны оролцогчид Сэлэнгэ айма...</td>\n",
       "      <td>NaN</td>\n",
       "      <td>video</td>\n",
       "      <td>https://www.facebook.com/mongoltv/videos/11252...</td>\n",
       "      <td>2016-08-04 07:39:04</td>\n",
       "      <td>34</td>\n",
       "      <td>0</td>\n",
       "      <td>12</td>\n",
       "      <td>32</td>\n",
       "      <td>2</td>\n",
       "      <td>0</td>\n",
       "      <td>0</td>\n",
       "      <td>0</td>\n",
       "      <td>0</td>\n",
       "    </tr>\n",
       "    <tr>\n",
       "      <th>2</th>\n",
       "      <td>156915824368931_1125189747541529</td>\n",
       "      <td>Бригад реалити шоу</td>\n",
       "      <td>Шууд эфир /туршилт/</td>\n",
       "      <td>video</td>\n",
       "      <td>https://www.facebook.com/mongoltv/videos/11251...</td>\n",
       "      <td>2016-08-04 04:39:58</td>\n",
       "      <td>293</td>\n",
       "      <td>52</td>\n",
       "      <td>39</td>\n",
       "      <td>276</td>\n",
       "      <td>9</td>\n",
       "      <td>4</td>\n",
       "      <td>1</td>\n",
       "      <td>1</td>\n",
       "      <td>2</td>\n",
       "    </tr>\n",
       "    <tr>\n",
       "      <th>3</th>\n",
       "      <td>156915824368931_1125116847548819</td>\n",
       "      <td>Өнөөдөр орой манай ТВ-ээр</td>\n",
       "      <td>Timeline Photos</td>\n",
       "      <td>photo</td>\n",
       "      <td>https://www.facebook.com/mongoltv/photos/a.349...</td>\n",
       "      <td>2016-08-04 01:57:23</td>\n",
       "      <td>63</td>\n",
       "      <td>18</td>\n",
       "      <td>3</td>\n",
       "      <td>59</td>\n",
       "      <td>1</td>\n",
       "      <td>1</td>\n",
       "      <td>1</td>\n",
       "      <td>0</td>\n",
       "      <td>1</td>\n",
       "    </tr>\n",
       "    <tr>\n",
       "      <th>4</th>\n",
       "      <td>156915824368931_1123607134366457</td>\n",
       "      <td>Өнөө орой</td>\n",
       "      <td>Timeline Photos</td>\n",
       "      <td>photo</td>\n",
       "      <td>https://www.facebook.com/mongoltv/photos/a.349...</td>\n",
       "      <td>2016-08-02 00:30:56</td>\n",
       "      <td>56</td>\n",
       "      <td>14</td>\n",
       "      <td>1</td>\n",
       "      <td>56</td>\n",
       "      <td>0</td>\n",
       "      <td>0</td>\n",
       "      <td>0</td>\n",
       "      <td>0</td>\n",
       "      <td>0</td>\n",
       "    </tr>\n",
       "  </tbody>\n",
       "</table>\n",
       "</div>"
      ],
      "text/plain": [
       "                          status_id  \\\n",
       "0  156915824368931_1125851687475335   \n",
       "1  156915824368931_1125254910868346   \n",
       "2  156915824368931_1125189747541529   \n",
       "3  156915824368931_1125116847548819   \n",
       "4  156915824368931_1123607134366457   \n",
       "\n",
       "                                      status_message            link_name  \\\n",
       "0                    Өнөөдөр орой хүлээн авч үзээрэй      Timeline Photos   \n",
       "1  \"Бригад\" реалити шоуны оролцогчид Сэлэнгэ айма...                  NaN   \n",
       "2                                 Бригад реалити шоу  Шууд эфир /туршилт/   \n",
       "3                          Өнөөдөр орой манай ТВ-ээр      Timeline Photos   \n",
       "4                                          Өнөө орой      Timeline Photos   \n",
       "\n",
       "  status_type                                        status_link  \\\n",
       "0       photo  https://www.facebook.com/mongoltv/photos/a.349...   \n",
       "1       video  https://www.facebook.com/mongoltv/videos/11252...   \n",
       "2       video  https://www.facebook.com/mongoltv/videos/11251...   \n",
       "3       photo  https://www.facebook.com/mongoltv/photos/a.349...   \n",
       "4       photo  https://www.facebook.com/mongoltv/photos/a.349...   \n",
       "\n",
       "      status_published  num_reactions  num_comments  num_shares  num_likes  \\\n",
       "0  2016-08-05 04:16:11             44             6           1         44   \n",
       "1  2016-08-04 07:39:04             34             0          12         32   \n",
       "2  2016-08-04 04:39:58            293            52          39        276   \n",
       "3  2016-08-04 01:57:23             63            18           3         59   \n",
       "4  2016-08-02 00:30:56             56            14           1         56   \n",
       "\n",
       "   num_loves  num_wows  num_hahas  num_sads  num_angrys  \n",
       "0          0         0          0         0           0  \n",
       "1          2         0          0         0           0  \n",
       "2          9         4          1         1           2  \n",
       "3          1         1          1         0           1  \n",
       "4          0         0          0         0           0  "
      ]
     },
     "execution_count": 56,
     "metadata": {},
     "output_type": "execute_result"
    }
   ],
   "source": [
    "fbdata.head()"
   ]
  },
  {
   "cell_type": "markdown",
   "metadata": {},
   "source": [
    "fbdata.drop('status_id', axis=1, inplace=True).head() командыг өгснөөр жинхэнэ датад өөрчлөлт орох болно. Дата алдах зорилгоор команд гүйлгэсэнгүй."
   ]
  },
  {
   "cell_type": "markdown",
   "metadata": {},
   "source": [
    "inplace заавал ашиглахгүйгээр зүгээр assignment мөн хийж болно. Жишээ нь: fbdata = fbdata.drop('status_id', axis=1, inplace=True) гэх мэт. Үр дүн inplace ашигласантай адил"
   ]
  },
  {
   "cell_type": "markdown",
   "metadata": {},
   "source": [
    "## Pandas memory usage хэрхэн багасгах вэ?"
   ]
  },
  {
   "cell_type": "markdown",
   "metadata": {},
   "source": [
    "dataframe.info() method ашиглан memory usage хамгийн багадаа хэд байгааг мэдэж болно."
   ]
  },
  {
   "cell_type": "code",
   "execution_count": 57,
   "metadata": {
    "collapsed": false
   },
   "outputs": [
    {
     "name": "stdout",
     "output_type": "stream",
     "text": [
      "<class 'pandas.core.frame.DataFrame'>\n",
      "RangeIndex: 3212 entries, 0 to 3211\n",
      "Data columns (total 15 columns):\n",
      "status_id           3212 non-null object\n",
      "status_message      2649 non-null object\n",
      "link_name           2413 non-null object\n",
      "status_type         3212 non-null object\n",
      "status_link         2748 non-null object\n",
      "status_published    3212 non-null object\n",
      "num_reactions       3212 non-null int64\n",
      "num_comments        3212 non-null int64\n",
      "num_shares          3212 non-null int64\n",
      "num_likes           3212 non-null int64\n",
      "num_loves           3212 non-null int64\n",
      "num_wows            3212 non-null int64\n",
      "num_hahas           3212 non-null int64\n",
      "num_sads            3212 non-null int64\n",
      "num_angrys          3212 non-null int64\n",
      "dtypes: int64(9), object(6)\n",
      "memory usage: 376.5+ KB\n"
     ]
    }
   ],
   "source": [
    "fbdata.info()"
   ]
  },
  {
   "cell_type": "markdown",
   "metadata": {},
   "source": [
    "memory_usage='deep' гэж зааж өгснөөр яг хэдий хэмжээний memory ашиглаад байгааг нарийвчлан харж болно. Энд бол 2.5 MB RAM ашиглаж буй"
   ]
  },
  {
   "cell_type": "code",
   "execution_count": 58,
   "metadata": {
    "collapsed": false
   },
   "outputs": [
    {
     "name": "stdout",
     "output_type": "stream",
     "text": [
      "<class 'pandas.core.frame.DataFrame'>\n",
      "RangeIndex: 3212 entries, 0 to 3211\n",
      "Data columns (total 15 columns):\n",
      "status_id           3212 non-null object\n",
      "status_message      2649 non-null object\n",
      "link_name           2413 non-null object\n",
      "status_type         3212 non-null object\n",
      "status_link         2748 non-null object\n",
      "status_published    3212 non-null object\n",
      "num_reactions       3212 non-null int64\n",
      "num_comments        3212 non-null int64\n",
      "num_shares          3212 non-null int64\n",
      "num_likes           3212 non-null int64\n",
      "num_loves           3212 non-null int64\n",
      "num_wows            3212 non-null int64\n",
      "num_hahas           3212 non-null int64\n",
      "num_sads            3212 non-null int64\n",
      "num_angrys          3212 non-null int64\n",
      "dtypes: int64(9), object(6)\n",
      "memory usage: 2.5 MB\n"
     ]
    }
   ],
   "source": [
    "fbdata.info(memory_usage='deep')"
   ]
  },
  {
   "cell_type": "markdown",
   "metadata": {},
   "source": [
    "Эсвэл шууд dataframe-с memory_usage method дуудаад column бүр хэр их memory зарцуулц байгааг харж болно."
   ]
  },
  {
   "cell_type": "code",
   "execution_count": 59,
   "metadata": {
    "collapsed": false
   },
   "outputs": [
    {
     "data": {
      "text/plain": [
       "Index                  80\n",
       "status_id           25696\n",
       "status_message      25696\n",
       "link_name           25696\n",
       "status_type         25696\n",
       "status_link         25696\n",
       "status_published    25696\n",
       "num_reactions       25696\n",
       "num_comments        25696\n",
       "num_shares          25696\n",
       "num_likes           25696\n",
       "num_loves           25696\n",
       "num_wows            25696\n",
       "num_hahas           25696\n",
       "num_sads            25696\n",
       "num_angrys          25696\n",
       "dtype: int64"
      ]
     },
     "execution_count": 59,
     "metadata": {},
     "output_type": "execute_result"
    }
   ],
   "source": [
    "fbdata.memory_usage()"
   ]
  },
  {
   "cell_type": "markdown",
   "metadata": {},
   "source": [
    "Илүү нарийвчлалтай харья гэвэл:"
   ]
  },
  {
   "cell_type": "code",
   "execution_count": 60,
   "metadata": {
    "collapsed": false
   },
   "outputs": [
    {
     "data": {
      "text/plain": [
       "Index                   80\n",
       "status_id           283468\n",
       "status_message      993081\n",
       "link_name           319015\n",
       "status_type         198895\n",
       "status_link         370266\n",
       "status_published    244112\n",
       "num_reactions        25696\n",
       "num_comments         25696\n",
       "num_shares           25696\n",
       "num_likes            25696\n",
       "num_loves            25696\n",
       "num_wows             25696\n",
       "num_hahas            25696\n",
       "num_sads             25696\n",
       "num_angrys           25696\n",
       "dtype: int64"
      ]
     },
     "execution_count": 60,
     "metadata": {},
     "output_type": "execute_result"
    }
   ],
   "source": [
    "fbdata.memory_usage(deep=True)"
   ]
  },
  {
   "cell_type": "markdown",
   "metadata": {},
   "source": [
    "Дээрхи series учраас sum() дуудаж болно:"
   ]
  },
  {
   "cell_type": "code",
   "execution_count": 61,
   "metadata": {
    "collapsed": false
   },
   "outputs": [
    {
     "data": {
      "text/plain": [
       "2640181"
      ]
     },
     "execution_count": 61,
     "metadata": {},
     "output_type": "execute_result"
    }
   ],
   "source": [
    "fbdata.memory_usage(deep=True).sum()"
   ]
  },
  {
   "cell_type": "code",
   "execution_count": 62,
   "metadata": {
    "collapsed": false
   },
   "outputs": [
    {
     "data": {
      "text/plain": [
       "['event', 'link', 'photo', 'status', 'video']"
      ]
     },
     "execution_count": 62,
     "metadata": {},
     "output_type": "execute_result"
    }
   ],
   "source": [
    "sorted(fbdata.status_type.unique())"
   ]
  },
  {
   "cell_type": "markdown",
   "metadata": {},
   "source": [
    "#### status_type дээр жишээ нь 3200 гариу row бүрт дээрхи string-үүдийн аль нэг нь байгаа. Тэгвэл эдгээр string-үүдийг int байдлаар хадгалвал memory usage харьцангүй багасна учир нь string-с int хамаагүй storage efficient. "
   ]
  },
  {
   "cell_type": "markdown",
   "metadata": {},
   "source": [
    "##### Pandas дээр үүнийг хийдэг зориулалтын өгөгдлийн төрөл байдаг. "
   ]
  },
  {
   "cell_type": "code",
   "execution_count": 63,
   "metadata": {
    "collapsed": true
   },
   "outputs": [],
   "source": [
    "fbdata['status_type'] = fbdata['status_type'].astype('category')"
   ]
  },
  {
   "cell_type": "code",
   "execution_count": 64,
   "metadata": {
    "collapsed": false
   },
   "outputs": [
    {
     "data": {
      "text/plain": [
       "status_id             object\n",
       "status_message        object\n",
       "link_name             object\n",
       "status_type         category\n",
       "status_link           object\n",
       "status_published      object\n",
       "num_reactions          int64\n",
       "num_comments           int64\n",
       "num_shares             int64\n",
       "num_likes              int64\n",
       "num_loves              int64\n",
       "num_wows               int64\n",
       "num_hahas              int64\n",
       "num_sads               int64\n",
       "num_angrys             int64\n",
       "dtype: object"
      ]
     },
     "execution_count": 64,
     "metadata": {},
     "output_type": "execute_result"
    }
   ],
   "source": [
    "fbdata.dtypes"
   ]
  },
  {
   "cell_type": "markdown",
   "metadata": {},
   "source": [
    "Дээрхээс харвал status_type category төрөл болж хувирсан байна."
   ]
  },
  {
   "cell_type": "code",
   "execution_count": 65,
   "metadata": {
    "collapsed": false
   },
   "outputs": [
    {
     "data": {
      "text/plain": [
       "0    photo\n",
       "1    video\n",
       "2    video\n",
       "3    photo\n",
       "4    photo\n",
       "Name: status_type, dtype: category\n",
       "Categories (5, object): [event, link, photo, status, video]"
      ]
     },
     "execution_count": 65,
     "metadata": {},
     "output_type": "execute_result"
    }
   ],
   "source": [
    "fbdata.status_type.head()"
   ]
  },
  {
   "cell_type": "markdown",
   "metadata": {},
   "source": [
    "Эндээс илүү тодорхой харагдаж байгаа байх. Categories нь дотороо 5н төрөлтэй лист байна."
   ]
  },
  {
   "cell_type": "markdown",
   "metadata": {},
   "source": [
    "Нэгэнт category төрөл болоод хувиргасан бол үүнийх нь argument-уудыг мөн дуудаж болно"
   ]
  },
  {
   "cell_type": "code",
   "execution_count": 66,
   "metadata": {
    "collapsed": false
   },
   "outputs": [
    {
     "data": {
      "text/plain": [
       "0    2\n",
       "1    4\n",
       "2    4\n",
       "3    2\n",
       "4    2\n",
       "dtype: int8"
      ]
     },
     "execution_count": 66,
     "metadata": {},
     "output_type": "execute_result"
    }
   ],
   "source": [
    "fbdata.status_type.cat.codes.head()"
   ]
  },
  {
   "cell_type": "markdown",
   "metadata": {},
   "source": [
    "Дээрхээс харвал codes нь photo-2 video-4 гэх мэт string-г int-р илэрхийлж байгааг харуулж байна. Ийм байдлаар memory usage хэмнэдэг байх нь. Шалгая:"
   ]
  },
  {
   "cell_type": "code",
   "execution_count": 69,
   "metadata": {
    "collapsed": false
   },
   "outputs": [
    {
     "data": {
      "text/plain": [
       "Index                   80\n",
       "status_id           283468\n",
       "status_message      993081\n",
       "link_name           319015\n",
       "status_type           3522\n",
       "status_link         370266\n",
       "status_published    244112\n",
       "num_reactions        25696\n",
       "num_comments         25696\n",
       "num_shares           25696\n",
       "num_likes            25696\n",
       "num_loves            25696\n",
       "num_wows             25696\n",
       "num_hahas            25696\n",
       "num_sads             25696\n",
       "num_angrys           25696\n",
       "dtype: int64"
      ]
     },
     "execution_count": 69,
     "metadata": {},
     "output_type": "execute_result"
    }
   ],
   "source": [
    "fbdata.memory_usage(deep=True)"
   ]
  },
  {
   "cell_type": "markdown",
   "metadata": {},
   "source": [
    "status_type нь 198895 байсан бол category ашигласнаар 3522 болж багассан байна."
   ]
  },
  {
   "cell_type": "markdown",
   "metadata": {},
   "source": [
    "#### Энд гол анхаарах зүйлсийн нэг бол category үргэлж memory usage хэмнээд байдаггүй. Жишээ нь бүх status_id-г category болгосон бол хэрэглэж байгаа memory usage улам ихсэнэ. Тэгэхээр category зөвхөн тодорхой хэдэн бичлэгтэй л талбарт ашиглавал ашигтай байна."
   ]
  },
  {
   "cell_type": "markdown",
   "metadata": {},
   "source": [
    "### Хэрхэн string утгаар sort_values хийх вэ?"
   ]
  },
  {
   "cell_type": "markdown",
   "metadata": {},
   "source": [
    "Жишээ df үүсгэе:\n"
   ]
  },
  {
   "cell_type": "code",
   "execution_count": 96,
   "metadata": {
    "collapsed": true
   },
   "outputs": [],
   "source": [
    "df = pd.DataFrame({'ID':[100,101,102,103], 'чанар':[\"сайн\",\"маш сайн\",\"сайн\",\"төгс\"]})"
   ]
  },
  {
   "cell_type": "code",
   "execution_count": 97,
   "metadata": {
    "collapsed": false
   },
   "outputs": [
    {
     "data": {
      "text/html": [
       "<div>\n",
       "<table border=\"1\" class=\"dataframe\">\n",
       "  <thead>\n",
       "    <tr style=\"text-align: right;\">\n",
       "      <th></th>\n",
       "      <th>ID</th>\n",
       "      <th>чанар</th>\n",
       "    </tr>\n",
       "  </thead>\n",
       "  <tbody>\n",
       "    <tr>\n",
       "      <th>0</th>\n",
       "      <td>100</td>\n",
       "      <td>сайн</td>\n",
       "    </tr>\n",
       "    <tr>\n",
       "      <th>1</th>\n",
       "      <td>101</td>\n",
       "      <td>маш сайн</td>\n",
       "    </tr>\n",
       "    <tr>\n",
       "      <th>2</th>\n",
       "      <td>102</td>\n",
       "      <td>сайн</td>\n",
       "    </tr>\n",
       "    <tr>\n",
       "      <th>3</th>\n",
       "      <td>103</td>\n",
       "      <td>төгс</td>\n",
       "    </tr>\n",
       "  </tbody>\n",
       "</table>\n",
       "</div>"
      ],
      "text/plain": [
       "    ID     чанар\n",
       "0  100      сайн\n",
       "1  101  маш сайн\n",
       "2  102      сайн\n",
       "3  103      төгс"
      ]
     },
     "execution_count": 97,
     "metadata": {},
     "output_type": "execute_result"
    }
   ],
   "source": [
    "df"
   ]
  },
  {
   "cell_type": "code",
   "execution_count": 98,
   "metadata": {
    "collapsed": false
   },
   "outputs": [
    {
     "data": {
      "text/html": [
       "<div>\n",
       "<table border=\"1\" class=\"dataframe\">\n",
       "  <thead>\n",
       "    <tr style=\"text-align: right;\">\n",
       "      <th></th>\n",
       "      <th>ID</th>\n",
       "      <th>чанар</th>\n",
       "    </tr>\n",
       "  </thead>\n",
       "  <tbody>\n",
       "    <tr>\n",
       "      <th>1</th>\n",
       "      <td>101</td>\n",
       "      <td>маш сайн</td>\n",
       "    </tr>\n",
       "    <tr>\n",
       "      <th>0</th>\n",
       "      <td>100</td>\n",
       "      <td>сайн</td>\n",
       "    </tr>\n",
       "    <tr>\n",
       "      <th>2</th>\n",
       "      <td>102</td>\n",
       "      <td>сайн</td>\n",
       "    </tr>\n",
       "    <tr>\n",
       "      <th>3</th>\n",
       "      <td>103</td>\n",
       "      <td>төгс</td>\n",
       "    </tr>\n",
       "  </tbody>\n",
       "</table>\n",
       "</div>"
      ],
      "text/plain": [
       "    ID     чанар\n",
       "1  101  маш сайн\n",
       "0  100      сайн\n",
       "2  102      сайн\n",
       "3  103      төгс"
      ]
     },
     "execution_count": 98,
     "metadata": {},
     "output_type": "execute_result"
    }
   ],
   "source": [
    "df.sort_values('чанар')"
   ]
  },
  {
   "cell_type": "markdown",
   "metadata": {},
   "source": [
    "Энд sort хийхдээ үсгийн дарааллар хийсэн байна. Гэхдээ чанараар нь хэрхэн sort хийх вэ?"
   ]
  },
  {
   "cell_type": "code",
   "execution_count": 99,
   "metadata": {
    "collapsed": false
   },
   "outputs": [],
   "source": [
    "df['чанар'] = df['чанар'].astype('category', categories=['сайн','маш сайн','төгс'], ordered=True)"
   ]
  },
  {
   "cell_type": "code",
   "execution_count": 100,
   "metadata": {
    "collapsed": false
   },
   "outputs": [
    {
     "data": {
      "text/plain": [
       "0        сайн\n",
       "1    маш сайн\n",
       "2        сайн\n",
       "3        төгс\n",
       "Name: чанар, dtype: category\n",
       "Categories (3, object): [сайн < маш сайн < төгс]"
      ]
     },
     "execution_count": 100,
     "metadata": {},
     "output_type": "execute_result"
    }
   ],
   "source": [
    "df.чанар"
   ]
  },
  {
   "cell_type": "markdown",
   "metadata": {},
   "source": [
    "Дээрхээс харахад categories нь сайн < маш сайн < төгс байдлаар ангиллагдсан байна."
   ]
  },
  {
   "cell_type": "code",
   "execution_count": 101,
   "metadata": {
    "collapsed": false
   },
   "outputs": [
    {
     "data": {
      "text/html": [
       "<div>\n",
       "<table border=\"1\" class=\"dataframe\">\n",
       "  <thead>\n",
       "    <tr style=\"text-align: right;\">\n",
       "      <th></th>\n",
       "      <th>ID</th>\n",
       "      <th>чанар</th>\n",
       "    </tr>\n",
       "  </thead>\n",
       "  <tbody>\n",
       "    <tr>\n",
       "      <th>0</th>\n",
       "      <td>100</td>\n",
       "      <td>сайн</td>\n",
       "    </tr>\n",
       "    <tr>\n",
       "      <th>2</th>\n",
       "      <td>102</td>\n",
       "      <td>сайн</td>\n",
       "    </tr>\n",
       "    <tr>\n",
       "      <th>1</th>\n",
       "      <td>101</td>\n",
       "      <td>маш сайн</td>\n",
       "    </tr>\n",
       "    <tr>\n",
       "      <th>3</th>\n",
       "      <td>103</td>\n",
       "      <td>төгс</td>\n",
       "    </tr>\n",
       "  </tbody>\n",
       "</table>\n",
       "</div>"
      ],
      "text/plain": [
       "    ID     чанар\n",
       "0  100      сайн\n",
       "2  102      сайн\n",
       "1  101  маш сайн\n",
       "3  103      төгс"
      ]
     },
     "execution_count": 101,
     "metadata": {},
     "output_type": "execute_result"
    }
   ],
   "source": [
    "df.sort_values('чанар')"
   ]
  },
  {
   "cell_type": "markdown",
   "metadata": {},
   "source": [
    "Ингэж болж байгаан бол boolean operator мөн ашиглаад зөвхөн хүссэн чанараа сонгож болох нь"
   ]
  },
  {
   "cell_type": "code",
   "execution_count": 103,
   "metadata": {
    "collapsed": false
   },
   "outputs": [
    {
     "data": {
      "text/html": [
       "<div>\n",
       "<table border=\"1\" class=\"dataframe\">\n",
       "  <thead>\n",
       "    <tr style=\"text-align: right;\">\n",
       "      <th></th>\n",
       "      <th>ID</th>\n",
       "      <th>чанар</th>\n",
       "    </tr>\n",
       "  </thead>\n",
       "  <tbody>\n",
       "    <tr>\n",
       "      <th>1</th>\n",
       "      <td>101</td>\n",
       "      <td>маш сайн</td>\n",
       "    </tr>\n",
       "    <tr>\n",
       "      <th>3</th>\n",
       "      <td>103</td>\n",
       "      <td>төгс</td>\n",
       "    </tr>\n",
       "  </tbody>\n",
       "</table>\n",
       "</div>"
      ],
      "text/plain": [
       "    ID     чанар\n",
       "1  101  маш сайн\n",
       "3  103      төгс"
      ]
     },
     "execution_count": 103,
     "metadata": {},
     "output_type": "execute_result"
    }
   ],
   "source": [
    "df.loc[df.чанар > 'сайн', :]"
   ]
  },
  {
   "cell_type": "code",
   "execution_count": null,
   "metadata": {
    "collapsed": true
   },
   "outputs": [],
   "source": []
  }
 ],
 "metadata": {
  "anaconda-cloud": {},
  "kernelspec": {
   "display_name": "Python [Root]",
   "language": "python",
   "name": "Python [Root]"
  },
  "language_info": {
   "codemirror_mode": {
    "name": "ipython",
    "version": 3
   },
   "file_extension": ".py",
   "mimetype": "text/x-python",
   "name": "python",
   "nbconvert_exporter": "python",
   "pygments_lexer": "ipython3",
   "version": "3.5.2"
  }
 },
 "nbformat": 4,
 "nbformat_minor": 0
}
